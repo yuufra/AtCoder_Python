{
 "cells": [
  {
   "cell_type": "code",
   "execution_count": 2,
   "metadata": {},
   "outputs": [
    {
     "name": "stdout",
     "output_type": "stream",
     "text": [
      "3199\n",
      "pink\n",
      "red\n"
     ]
    }
   ],
   "source": [
    "a = int(input())\n",
    "s = input()\n",
    "print(s) if a>=3200 else print('red')"
   ]
  },
  {
   "cell_type": "code",
   "execution_count": 5,
   "metadata": {},
   "outputs": [
    {
     "name": "stdout",
     "output_type": "stream",
     "text": [
      "1\n",
      "1000\n",
      "1000.0\n"
     ]
    }
   ],
   "source": [
    "n = int(input())\n",
    "a = list(map(int,input().split()))\n",
    "s = 0\n",
    "for i in range(n):\n",
    "    s += 1/a[i]\n",
    "print(1/s)"
   ]
  },
  {
   "cell_type": "code",
   "execution_count": 8,
   "metadata": {},
   "outputs": [
    {
     "name": "stdout",
     "output_type": "stream",
     "text": [
      "5\n",
      "138 138 138 138 138\n",
      "138.0\n"
     ]
    }
   ],
   "source": [
    "n = int(input())\n",
    "v = list(map(int,input().split()))\n",
    "v.sort()\n",
    "ans = v[0]\n",
    "for i in range(n-1):\n",
    "    ans = (ans+v[i+1])/2\n",
    "print(ans)"
   ]
  },
  {
   "cell_type": "code",
   "execution_count": 21,
   "metadata": {
    "scrolled": true
   },
   "outputs": [
    {
     "name": "stdout",
     "output_type": "stream",
     "text": [
      "6 2\n",
      "1 2\n",
      "1 3\n",
      "2 4\n",
      "3 6\n",
      "2 5\n",
      "1 10\n",
      "1 10\n",
      "20 20 20 20 20 20 "
     ]
    }
   ],
   "source": [
    "import queue\n",
    "\n",
    "n,q = list(map(int,input().split()))\n",
    "a = [0]*(n-1)\n",
    "b = [0]*(n-1)\n",
    "for i in range(n-1):\n",
    "    a[i],b[i] = list(map(int,input().split()))\n",
    "    a[i]-=1\n",
    "    b[i]-=1\n",
    "p = [0]*q\n",
    "x = [0]*q\n",
    "for i in range(q):\n",
    "    p[i],x[i] = list(map(int,input().split()))\n",
    "    p[i]-=1\n",
    "    \n",
    "d = {}\n",
    "for i in range(n-1):\n",
    "    d.setdefault(a[i],[]).append(b[i])\n",
    "cnt = [0]*n\n",
    "for i in range(q):\n",
    "    que = queue.Queue()\n",
    "    que.put(p[i])\n",
    "    while not que.empty():\n",
    "        new = que.get()\n",
    "        cnt[new]+=x[i]\n",
    "        if new in d:\n",
    "            for j in range(len(d[new])):\n",
    "                que.put(d[new][j])\n",
    "for i in range(n):        \n",
    "    print(cnt[i],end=\" \")"
   ]
  },
  {
   "cell_type": "code",
   "execution_count": null,
   "metadata": {},
   "outputs": [],
   "source": []
  }
 ],
 "metadata": {
  "kernelspec": {
   "display_name": "Python 3",
   "language": "python",
   "name": "python3"
  },
  "language_info": {
   "codemirror_mode": {
    "name": "ipython",
    "version": 3
   },
   "file_extension": ".py",
   "mimetype": "text/x-python",
   "name": "python",
   "nbconvert_exporter": "python",
   "pygments_lexer": "ipython3",
   "version": "3.7.0"
  }
 },
 "nbformat": 4,
 "nbformat_minor": 2
}
