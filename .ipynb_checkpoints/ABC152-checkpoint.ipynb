{
 "cells": [
  {
   "cell_type": "code",
   "execution_count": 2,
   "metadata": {},
   "outputs": [
    {
     "name": "stdout",
     "output_type": "stream",
     "text": [
      "3 2\n",
      "No\n"
     ]
    }
   ],
   "source": [
    "n,m = list(map(int,input().split()))\n",
    "print('Yes' if n==m else 'No')"
   ]
  },
  {
   "cell_type": "code",
   "execution_count": 6,
   "metadata": {},
   "outputs": [
    {
     "name": "stdout",
     "output_type": "stream",
     "text": [
      "5 3\n",
      "33333\n"
     ]
    }
   ],
   "source": [
    "a,b = list(map(int,input().split()))\n",
    "ab = str(a)*b\n",
    "ba = str(b)*a\n",
    "print(ab if ab<ba else ba)"
   ]
  },
  {
   "cell_type": "code",
   "execution_count": 24,
   "metadata": {},
   "outputs": [
    {
     "name": "stdout",
     "output_type": "stream",
     "text": [
      "8\n",
      "1 2 3 4 5 6 7 8\n",
      "1\n"
     ]
    }
   ],
   "source": [
    "import heapq\n",
    "n = int(input())\n",
    "p = list(map(int,input().split()))\n",
    "\n",
    "h = []\n",
    "heapq.heapify(h)\n",
    "ans=0\n",
    "for i in range(len(p)):\n",
    "    heapq.heappush(h,p[i])\n",
    "    m = heapq.heappop(h)\n",
    "    if m==p[i]:\n",
    "        ans+=1\n",
    "    heapq.heappush(h,m)\n",
    "print(ans)"
   ]
  },
  {
   "cell_type": "code",
   "execution_count": 55,
   "metadata": {},
   "outputs": [
    {
     "name": "stdout",
     "output_type": "stream",
     "text": [
      "200000\n",
      "400000008\n"
     ]
    }
   ],
   "source": [
    "n = int(input())\n",
    "a = [[0 for i in range(10)]for j in range(10)]\n",
    "for i in range(1,n+1):\n",
    "    s = str(i)\n",
    "    a[int(s[0])][int(s[len(s)-1])]+=1\n",
    "ans = 0\n",
    "for i in range(1,10):\n",
    "    for j in range(1,10):\n",
    "        if i!=j:\n",
    "            ans += a[i][j]*a[j][i]\n",
    "        else:\n",
    "            ans += a[i][i]*(a[i][i]-1)+a[i][i]\n",
    "print(ans)"
   ]
  },
  {
   "cell_type": "code",
   "execution_count": 70,
   "metadata": {},
   "outputs": [
    {
     "name": "stdout",
     "output_type": "stream",
     "text": [
      "3\n",
      "1000000 999999 999998\n"
     ]
    },
    {
     "name": "stderr",
     "output_type": "stream",
     "text": [
      "C:\\Users\\tos-h\\Anaconda3\\lib\\site-packages\\ipykernel_launcher.py:3: DeprecationWarning: fractions.gcd() is deprecated. Use math.gcd() instead.\n",
      "  This is separate from the ipykernel package so we can avoid doing imports until\n"
     ]
    },
    {
     "name": "stdout",
     "output_type": "stream",
     "text": [
      "1000000\n",
      "1000000\n",
      "999999000000\n",
      "998993007\n",
      "998991009013986\n",
      "2021049\n",
      "2021049\n",
      "993979009\n"
     ]
    }
   ],
   "source": [
    "import fractions\n",
    "def lcm(a,b):\n",
    "    return b*(a//fractions.gcd(a,b))\n",
    "\n",
    "MOD = (10**9)+7\n",
    "n = int(input())\n",
    "a = list(map(int,input().split()))\n",
    "l = 1\n",
    "for i in range(n):\n",
    "    l = lcm(l,a[i])\n",
    "    print(l)\n",
    "    l %= MOD\n",
    "    print(l)\n",
    "print(l%MOD)\n",
    "\n",
    "inv = [1]*(10**6+10)\n",
    "for i in range(2,len(inv)):\n",
    "    inv[i] = MOD - inv[MOD%i] * (MOD // i) % MOD\n",
    "    \n",
    "ans = 0\n",
    "for i in range(n):\n",
    "    ans = (ans+(l*inv[a[i]])%MOD)%MOD\n",
    "print(ans)"
   ]
  },
  {
   "cell_type": "code",
   "execution_count": null,
   "metadata": {},
   "outputs": [],
   "source": []
  }
 ],
 "metadata": {
  "kernelspec": {
   "display_name": "Python 3",
   "language": "python",
   "name": "python3"
  },
  "language_info": {
   "codemirror_mode": {
    "name": "ipython",
    "version": 3
   },
   "file_extension": ".py",
   "mimetype": "text/x-python",
   "name": "python",
   "nbconvert_exporter": "python",
   "pygments_lexer": "ipython3",
   "version": "3.7.0"
  }
 },
 "nbformat": 4,
 "nbformat_minor": 2
}
