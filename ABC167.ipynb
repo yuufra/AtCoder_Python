{
 "cells": [
  {
   "cell_type": "code",
   "execution_count": 14,
   "metadata": {},
   "outputs": [
    {
     "name": "stdout",
     "output_type": "stream",
     "text": [
      "6 727202214173249351\n",
      "6 5 2 5 3 2\n",
      "2\n",
      "[1, 6, 2, 5, 3]\n"
     ]
    }
   ],
   "source": [
    "#D\n",
    "n,k = list(map(int,input().split()))\n",
    "a = list(map(int,input().split()))\n",
    "nxt = 1\n",
    "loop = []\n",
    "tset = set()\n",
    "final = -1\n",
    "while 1:\n",
    "    loop.append(nxt)\n",
    "    tset.add(nxt)\n",
    "    nxt = a[nxt-1]\n",
    "    if nxt in tset:\n",
    "        final = nxt #重複した町\n",
    "        break\n",
    "m = -1 #ループに入るまでの回数\n",
    "for i in range(len(loop)):\n",
    "    if loop[i]==final:\n",
    "        m = i\n",
    "        break\n",
    "l = len(loop)\n",
    "if k < m:\n",
    "    print(loop[k])\n",
    "else:\n",
    "    print(loop[(k-m)%(l-m)+m])\n",
    "# print(loop[(k+1)%l])"
   ]
  },
  {
   "cell_type": "code",
   "execution_count": 11,
   "metadata": {},
   "outputs": [
    {
     "name": "stdout",
     "output_type": "stream",
     "text": [
      "8 5 22\n",
      "100 3 7 5 3 1\n",
      "164 4 5 2 7 8\n",
      "334 7 2 7 2 9\n",
      "234 4 7 2 8 2\n",
      "541 5 4 3 3 6\n",
      "235 4 8 6 9 7\n",
      "394 3 6 1 6 2\n",
      "872 8 4 3 7 2\n",
      "1067\n"
     ]
    }
   ],
   "source": [
    "#C\n",
    "n,m,x = list(map(int,input().split()))\n",
    "c = [0 for i in range(n)]\n",
    "a = [[0 for i in range(m)] for j in range(n)]\n",
    "for i in range(n):\n",
    "    buf = list(map(int,input().split()))\n",
    "    c[i] = buf[0]\n",
    "    for j in range(m):\n",
    "        a[i][j] = buf[j+1]\n",
    "\n",
    "cmin = 10**8\n",
    "csum = 0\n",
    "asum = [0 for i in range(m)]\n",
    "for i in range(2**n):\n",
    "    csum = 0\n",
    "    for k in range(m):\n",
    "        asum[k] = 0\n",
    "    for j in range(n):\n",
    "        if (i>>j)&1:\n",
    "            csum+=c[j]\n",
    "            for k in range(m):\n",
    "                asum[k] += a[j][k]\n",
    "    b = True\n",
    "    for k in range(m):\n",
    "        if asum[k]<x:\n",
    "            b = False\n",
    "            break\n",
    "    if b:\n",
    "        cmin = min(cmin,csum)\n",
    "\n",
    "if cmin==10**8:\n",
    "    print(-1)\n",
    "else:\n",
    "    print(cmin)"
   ]
  },
  {
   "cell_type": "code",
   "execution_count": 14,
   "metadata": {},
   "outputs": [
    {
     "name": "stdout",
     "output_type": "stream",
     "text": [
      "2000000000 0 0 2000000000\n",
      "2000000000\n"
     ]
    }
   ],
   "source": [
    "#B\n",
    "a,b,c,k = list(map(int,input().split()))\n",
    "if k<=a:\n",
    "    print(k)\n",
    "elif k<=a+b:\n",
    "    print(a)\n",
    "else:\n",
    "    print(a-(k-(a+b)))"
   ]
  },
  {
   "cell_type": "code",
   "execution_count": 17,
   "metadata": {},
   "outputs": [
    {
     "name": "stdout",
     "output_type": "stream",
     "text": [
      "a\n",
      "aa\n",
      "Yes\n"
     ]
    }
   ],
   "source": [
    "#A\n",
    "s = input()\n",
    "t = input()\n",
    "b = True\n",
    "for i in range(len(s)):\n",
    "    if s[i]!=t[i]:\n",
    "        b = False\n",
    "if b:\n",
    "    print('Yes')\n",
    "else:\n",
    "    print('No')"
   ]
  },
  {
   "cell_type": "code",
   "execution_count": 19,
   "metadata": {},
   "outputs": [
    {
     "name": "stdout",
     "output_type": "stream",
     "text": [
      "100 100 0\n",
      "73074801\n"
     ]
    }
   ],
   "source": [
    "#E\n",
    "n,m,k = list(map(int,input().split()))\n",
    "fac = [1]*n\n",
    "finv = [1]*n\n",
    "inv = [1]*n\n",
    "MOD = 998244353\n",
    "for i in range(2,n):\n",
    "    fac[i] = fac[i-1]*i%MOD\n",
    "    inv[i] = MOD-inv[MOD%i]*(MOD//i)%MOD\n",
    "    finv[i] = finv[i-1]*inv[i]%MOD\n",
    "def comb(n,k):\n",
    "    return fac[n]*(finv[k]*finv[n-k]%MOD)%MOD\n",
    "\n",
    "ans = 0\n",
    "for i in range(k+1):\n",
    "#     print(comb(n-1,i),m*(m-1)**(n-i-1))\n",
    "    ans += comb(n-1,i)*m*pow(m-1,n-i-1,MOD)%MOD\n",
    "    ans %= MOD\n",
    "print(ans)"
   ]
  },
  {
   "cell_type": "code",
   "execution_count": null,
   "metadata": {},
   "outputs": [],
   "source": [
    "# 仕切らないところの選び方 n-1_C_k,n-1_C_k-1,...,n-1_C_0\n",
    "# 仕切りの数              n-1-k,n-1-(k-1),...,n-1\n",
    "# 答え                   sum(n-1_C_i*m*(m-1)**(n-1-i),[i,0,k])"
   ]
  }
 ],
 "metadata": {
  "kernelspec": {
   "display_name": "Python 3",
   "language": "python",
   "name": "python3"
  },
  "language_info": {
   "codemirror_mode": {
    "name": "ipython",
    "version": 3
   },
   "file_extension": ".py",
   "mimetype": "text/x-python",
   "name": "python",
   "nbconvert_exporter": "python",
   "pygments_lexer": "ipython3",
   "version": "3.7.0"
  }
 },
 "nbformat": 4,
 "nbformat_minor": 2
}
