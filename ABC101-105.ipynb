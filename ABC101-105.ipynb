{
 "cells": [
  {
   "cell_type": "code",
   "execution_count": 6,
   "metadata": {},
   "outputs": [
    {
     "name": "stdout",
     "output_type": "stream",
     "text": [
      "++++\n",
      "4\n"
     ]
    }
   ],
   "source": [
    "#ABC101A\n",
    "s = list(input())\n",
    "\n",
    "ans = 0\n",
    "for i in range(4):\n",
    "    if s[i] == '+':\n",
    "        ans += 1\n",
    "    else:\n",
    "        ans -= 1\n",
    "print(ans)\n",
    "\n",
    "###\n",
    "\n",
    "s = input()\n",
    "\n",
    "ans = 0\n",
    "for i in s:\n",
    "    if i == '+':\n",
    "        ans += 1\n",
    "    else:\n",
    "        ans -= 1\n",
    "print(ans)\n",
    "\n",
    "###\n",
    "\n",
    "s = input()\n",
    "print(s.count('+')-s.count('-'))"
   ]
  },
  {
   "cell_type": "code",
   "execution_count": 15,
   "metadata": {},
   "outputs": [
    {
     "name": "stdout",
     "output_type": "stream",
     "text": [
      "999999\n",
      "No\n"
     ]
    }
   ],
   "source": [
    "#ABC101B\n",
    "n = int(input())\n",
    "s = 0\n",
    "for i in str(n):  #for文のinは文字列なら使えるため\n",
    "    s += int(i)\n",
    "if n%s == 0:\n",
    "    print('Yes')\n",
    "else:\n",
    "    print('No')\n",
    "\n",
    "###\n",
    "\n",
    "s = sum(list(map(int,list(str(n)))))\n",
    "\n",
    "print('Yes' if n%s==0 else 'No')"
   ]
  },
  {
   "cell_type": "code",
   "execution_count": 18,
   "metadata": {},
   "outputs": [
    {
     "name": "stdout",
     "output_type": "stream",
     "text": [
      "999999999\n",
      "1999999998\n"
     ]
    }
   ],
   "source": [
    "#ABC102A\n",
    "n = int(input())\n",
    "print(n if n%2==0 else n*2)"
   ]
  },
  {
   "cell_type": "code",
   "execution_count": 27,
   "metadata": {},
   "outputs": [
    {
     "name": "stdout",
     "output_type": "stream",
     "text": [
      "5\n",
      "1 1 1 1 1\n",
      "0\n"
     ]
    }
   ],
   "source": [
    "#ABC102B\n",
    "n = int(input())\n",
    "a = list(map(int,input().split()))\n",
    "maxa = 0\n",
    "for i in range(n-1):\n",
    "    for j in range(i+1,n):\n",
    "        temp = abs(a[i]-a[j])\n",
    "        if temp > maxa:\n",
    "            maxa = temp\n",
    "print(maxa)\n",
    "\n",
    "###\n",
    "\n",
    "print(max(a)-min(a))"
   ]
  },
  {
   "cell_type": "code",
   "execution_count": 29,
   "metadata": {},
   "outputs": [
    {
     "name": "stdout",
     "output_type": "stream",
     "text": [
      "2 5 3\n",
      "3\n"
     ]
    }
   ],
   "source": [
    "#ABC103A\n",
    "a = list(map(int,input().split()))\n",
    "print(max(a)-min(a))"
   ]
  },
  {
   "cell_type": "code",
   "execution_count": 2,
   "metadata": {},
   "outputs": [
    {
     "name": "stdout",
     "output_type": "stream",
     "text": [
      "tokyo\n",
      "kyoto\n",
      "Yes\n",
      "No\n"
     ]
    }
   ],
   "source": [
    "#ABC103B\n",
    "s = input()\n",
    "t = input()\n",
    "\n",
    "for i in s:\n",
    "    s = s[-1] + s[0:-1] #スライスの後半は1個ずれるので注意\n",
    "    if s == t:\n",
    "        print('Yes')\n",
    "        exit()\n",
    "print('No')"
   ]
  },
  {
   "cell_type": "code",
   "execution_count": 1,
   "metadata": {},
   "outputs": [
    {
     "name": "stdout",
     "output_type": "stream",
     "text": [
      "1200\n",
      "ARC\n"
     ]
    }
   ],
   "source": [
    "#ABC104A\n",
    "r = int(input())\n",
    "if r < 1200:\n",
    "    print('ABC')\n",
    "elif r < 2800:\n",
    "    print('ARC')\n",
    "else:\n",
    "    print('AGC')"
   ]
  },
  {
   "cell_type": "code",
   "execution_count": 6,
   "metadata": {},
   "outputs": [
    {
     "name": "stdout",
     "output_type": "stream",
     "text": [
      "AtCoder\n",
      "AC\n"
     ]
    }
   ],
   "source": [
    "#ABC104B\n",
    "# s = input()\n",
    "# if s[0] != 'A':\n",
    "#     print('WA')\n",
    "# else:\n",
    "#     temp = 0\n",
    "#     for i in s[3,-1]:\n",
    "#         if i == 'C':\n",
    "#             temp += 1\n",
    "#     if temp != 1:\n",
    "#         print('WA')\n",
    "#     else:\n",
    "#         s.replace('C','').strip()\n",
    "#         if s[1:].isupper():\n",
    "#             print('AC')\n",
    "#         else:\n",
    "#             print('WA')\n",
    "\n",
    "s = input()\n",
    "if s[0] == 'A' and s[2:-1].count('C') == 1 and s[1:].replace('C','').islower():\n",
    "    print('AC')\n",
    "else:\n",
    "    print('WA')"
   ]
  },
  {
   "cell_type": "code",
   "execution_count": 10,
   "metadata": {},
   "outputs": [
    {
     "name": "stdout",
     "output_type": "stream",
     "text": [
      "7 3\n",
      "1\n"
     ]
    }
   ],
   "source": [
    "#ABC105A\n",
    "n = list(map(int,input().split()))\n",
    "print(0 if n[0]%n[1]==0 else 1)\n",
    "\n",
    "###\n",
    "\n",
    "n,k = [int(i) for i in input().split()]"
   ]
  },
  {
   "cell_type": "code",
   "execution_count": 1,
   "metadata": {},
   "outputs": [
    {
     "name": "stdout",
     "output_type": "stream",
     "text": [
      "40\n",
      "5\n",
      "Yes\n",
      "5\n",
      "5\n",
      "5\n",
      "5\n",
      "Yes\n",
      "5\n",
      "No\n"
     ]
    }
   ],
   "source": [
    "#ABC105B\n",
    "n = int(input())\n",
    "for i in range(n//7+1):\n",
    "    if (n-7*i)%4 == 0:\n",
    "        print('Yes')\n",
    "        exit()\n",
    "print('No')"
   ]
  },
  {
   "cell_type": "code",
   "execution_count": 3,
   "metadata": {},
   "outputs": [
    {
     "name": "stdout",
     "output_type": "stream",
     "text": [
      "8 3\n",
      "7 3 1 8 4 6 2 5\n",
      "4\n"
     ]
    }
   ],
   "source": [
    "#ABC101C\n",
    "n,k = list(map(int,input().split()))\n",
    "a = list(map(int,input().split()))\n",
    "#(n-1)/(k-1)の繰り上げ\n",
    "print(((n-1)+(k-1)-1)//(k-1))"
   ]
  },
  {
   "cell_type": "code",
   "execution_count": 24,
   "metadata": {},
   "outputs": [
    {
     "name": "stdout",
     "output_type": "stream",
     "text": [
      "7\n",
      "1 1 1 1 2 3 4\n",
      "6\n"
     ]
    }
   ],
   "source": [
    "#ABC102C\n",
    "import numpy as np\n",
    "n = int(input())\n",
    "a = list(map(int,input().split()))\n",
    "b = [0]*n\n",
    "for i in range(n):\n",
    "    b[i] = a[i]-(i+1)\n",
    "ave = round(np.median(b)) #中央値!\n",
    "ans = 0\n",
    "for i in range(n):\n",
    "    ans += abs(b[i]-ave)\n",
    "print(int(ans))"
   ]
  },
  {
   "cell_type": "code",
   "execution_count": 29,
   "metadata": {},
   "outputs": [
    {
     "name": "stdout",
     "output_type": "stream",
     "text": [
      "7\n",
      "994 518 941 851 647 2 581\n",
      "4527\n"
     ]
    }
   ],
   "source": [
    "#ABC103C\n",
    "n = int(input())\n",
    "a = list(map(int,input().split()))\n",
    "print(sum(a)-n)"
   ]
  },
  {
   "cell_type": "code",
   "execution_count": 34,
   "metadata": {},
   "outputs": [
    {
     "name": "stdout",
     "output_type": "stream",
     "text": [
      "5 25000\n",
      "20 1000\n",
      "40 1000\n",
      "50 1000\n",
      "30 1000\n",
      "1 1000\n",
      "66\n"
     ]
    }
   ],
   "source": [
    "#ABC104C\n",
    "d,g = list(map(int,input().split()))\n",
    "p = [0]*d\n",
    "c = [0]*d\n",
    "for i in range(d):\n",
    "    p[i],c[i] = list(map(int,input().split()))\n",
    "\n",
    "#bit全探索\n",
    "ans = float('inf')\n",
    "for i in range(2**d):\n",
    "    s = 0\n",
    "    num = 0\n",
    "    rest_max = -1\n",
    "    for j in range(d):\n",
    "        if (i>>j) & 1:\n",
    "            s += 100*(j+1)*p[j] + c[j]\n",
    "            num += p[j]\n",
    "        else:\n",
    "            rest_max = j #全完でない最高得点の問題\n",
    "    if s<g and rest_max >= 0:\n",
    "        r = 100*(rest_max+1)\n",
    "        need = ((g-s)+r-1)//r #(g-s)/rの繰り上げ\n",
    "        if need >= p[rest_max]:\n",
    "            continue\n",
    "        num += need\n",
    "    ans = min(ans,num)\n",
    "print(ans)"
   ]
  },
  {
   "cell_type": "code",
   "execution_count": 49,
   "metadata": {},
   "outputs": [
    {
     "name": "stdout",
     "output_type": "stream",
     "text": [
      "-2\n"
     ]
    }
   ],
   "source": [
    "#ABC105C\n",
    "n = int(input())\n",
    "if n == 0:\n",
    "    print(0)\n",
    "else:\n",
    "    s = \"\"\n",
    "    while n != 0:\n",
    "        if n%2 != 0:\n",
    "            s = '1'+s\n",
    "            n -= 1\n",
    "        else:\n",
    "            s = '0'+s\n",
    "        n //= -2\n",
    "    print(s)"
   ]
  },
  {
   "cell_type": "code",
   "execution_count": null,
   "metadata": {},
   "outputs": [],
   "source": []
  }
 ],
 "metadata": {
  "kernelspec": {
   "display_name": "Python 3",
   "language": "python",
   "name": "python3"
  },
  "language_info": {
   "codemirror_mode": {
    "name": "ipython",
    "version": 3
   },
   "file_extension": ".py",
   "mimetype": "text/x-python",
   "name": "python",
   "nbconvert_exporter": "python",
   "pygments_lexer": "ipython3",
   "version": "3.7.0"
  }
 },
 "nbformat": 4,
 "nbformat_minor": 2
}
