{
 "cells": [
  {
   "cell_type": "code",
   "execution_count": 2,
   "metadata": {},
   "outputs": [],
   "source": [
    "##https://qiita.com/drken/items/fd4e5e3630d0f5859067\n",
    "#1,2,6\n",
    "#(a+b-1)/b #余りの切り上げ\n",
    "#リストのソートはsort,文字列のソートはsorted()"
   ]
  },
  {
   "cell_type": "code",
   "execution_count": 4,
   "metadata": {},
   "outputs": [
    {
     "name": "stdout",
     "output_type": "stream",
     "text": [
      "2 3 4\n",
      "No\n"
     ]
    }
   ],
   "source": [
    "#064A\n",
    "r,g,b = list(map(int,input().split()))\n",
    "n = r*100 + g*10 + b\n",
    "if n%4 == 0:\n",
    "    print('YES')\n",
    "else:\n",
    "    print('NO')"
   ]
  },
  {
   "cell_type": "code",
   "execution_count": 6,
   "metadata": {},
   "outputs": [
    {
     "name": "stdout",
     "output_type": "stream",
     "text": [
      "37\n",
      "514\n",
      "Yes\n"
     ]
    }
   ],
   "source": [
    "#088A\n",
    "n = int(input())\n",
    "a = int(input())\n",
    "temp = n%500\n",
    "if temp <= a:\n",
    "    print('Yes')\n",
    "else:\n",
    "    print('No')"
   ]
  },
  {
   "cell_type": "code",
   "execution_count": 9,
   "metadata": {},
   "outputs": [
    {
     "name": "stdout",
     "output_type": "stream",
     "text": [
      "7 4\n",
      "6\n"
     ]
    }
   ],
   "source": [
    "#082A\n",
    "a,b = list(map(int,input().split()))\n",
    "print((a+b+1)//2)"
   ]
  },
  {
   "cell_type": "code",
   "execution_count": 11,
   "metadata": {},
   "outputs": [
    {
     "name": "stdout",
     "output_type": "stream",
     "text": [
      "ooo\n",
      "1000\n"
     ]
    }
   ],
   "source": [
    "#095A\n",
    "s = input()\n",
    "print(700+100*s.count('o'))"
   ]
  },
  {
   "cell_type": "code",
   "execution_count": 12,
   "metadata": {},
   "outputs": [
    {
     "name": "stdout",
     "output_type": "stream",
     "text": [
      "2017/01/07\n",
      "2018/01/07\n"
     ]
    }
   ],
   "source": [
    "#085A\n",
    "s = input()\n",
    "print('2018'+s[4:])"
   ]
  },
  {
   "cell_type": "code",
   "execution_count": 13,
   "metadata": {},
   "outputs": [
    {
     "name": "stdout",
     "output_type": "stream",
     "text": [
      "internationalization\n",
      "i18n\n"
     ]
    }
   ],
   "source": [
    "#069B\n",
    "s = input()\n",
    "print(s[0]+str(len(s)-2)+s[len(s)-1])"
   ]
  },
  {
   "cell_type": "code",
   "execution_count": 15,
   "metadata": {},
   "outputs": [
    {
     "name": "stdout",
     "output_type": "stream",
     "text": [
      "yx\n",
      "ayx\n",
      "Yes\n"
     ]
    }
   ],
   "source": [
    "#082B\n",
    "s = input()\n",
    "t = input()\n",
    "print('Yes') if sorted(s) < sorted(t,reverse=True) else print('No')"
   ]
  },
  {
   "cell_type": "code",
   "execution_count": 21,
   "metadata": {},
   "outputs": [
    {
     "name": "stdout",
     "output_type": "stream",
     "text": [
      "15 14\n",
      "50 26 27 21 41 7 42 35 7 5 5 36 39 1 45\n",
      "386\n"
     ]
    }
   ],
   "source": [
    "#067B\n",
    "n,k = list(map(int,input().split()))\n",
    "l = list(map(int,input().split()))\n",
    "l.sort(reverse=True)\n",
    "print(sum(l[:k]))"
   ]
  },
  {
   "cell_type": "code",
   "execution_count": 26,
   "metadata": {},
   "outputs": [
    {
     "name": "stdout",
     "output_type": "stream",
     "text": [
      "3 3\n",
      "cxx\n",
      "axx\n",
      "dxx\n",
      "axxcxxdxx\n"
     ]
    }
   ],
   "source": [
    "#042B\n",
    "n,l = list(map(int,input().split()))\n",
    "s = [input() for i in range(n)]\n",
    "s.sort()\n",
    "# temp = ''\n",
    "# for i in range(n):\n",
    "#     temp += s[i]\n",
    "# print(temp)\n",
    "print(''.join(s))"
   ]
  },
  {
   "cell_type": "code",
   "execution_count": 30,
   "metadata": {},
   "outputs": [
    {
     "name": "stdout",
     "output_type": "stream",
     "text": [
      "2 10\n",
      "20 20\n",
      "0\n"
     ]
    }
   ],
   "source": [
    "#AGC027A\n",
    "n,x = list(map(int,input().split()))\n",
    "a = list(map(int,input().split()))\n",
    "a.sort()\n",
    "k = 0\n",
    "for i in range(n-1):\n",
    "    if a[i] <= x:\n",
    "        k += 1\n",
    "        x -= a[i]\n",
    "if a[n-1] == x:\n",
    "    k += 1\n",
    "print(k)"
   ]
  },
  {
   "cell_type": "code",
   "execution_count": null,
   "metadata": {},
   "outputs": [],
   "source": []
  }
 ],
 "metadata": {
  "kernelspec": {
   "display_name": "Python 3",
   "language": "python",
   "name": "python3"
  },
  "language_info": {
   "codemirror_mode": {
    "name": "ipython",
    "version": 3
   },
   "file_extension": ".py",
   "mimetype": "text/x-python",
   "name": "python",
   "nbconvert_exporter": "python",
   "pygments_lexer": "ipython3",
   "version": "3.7.0"
  }
 },
 "nbformat": 4,
 "nbformat_minor": 2
}
