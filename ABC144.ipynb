{
 "cells": [
  {
   "cell_type": "code",
   "execution_count": 3,
   "metadata": {},
   "outputs": [
    {
     "name": "stdout",
     "output_type": "stream",
     "text": [
      "5 10\n",
      "-1\n"
     ]
    }
   ],
   "source": [
    "a,b = list(map(int,input().split()))\n",
    "print(a*b if 1<=a<=9 and 1<=b<=9 else -1)"
   ]
  },
  {
   "cell_type": "code",
   "execution_count": 12,
   "metadata": {},
   "outputs": [
    {
     "name": "stdout",
     "output_type": "stream",
     "text": [
      "81\n",
      "Yes\n"
     ]
    }
   ],
   "source": [
    "n = int(input())\n",
    "flag = False\n",
    "for i in range(1,10):\n",
    "    if n%i==0 and 1<=n/i<=9:\n",
    "        flag = True\n",
    "print(\"Yes\" if flag else \"No\")"
   ]
  },
  {
   "cell_type": "code",
   "execution_count": 17,
   "metadata": {},
   "outputs": [
    {
     "name": "stdout",
     "output_type": "stream",
     "text": [
      "10000000019\n",
      "10000000018\n"
     ]
    }
   ],
   "source": [
    "n = int(input())\n",
    "for i in range(int(n**0.5),0,-1):\n",
    "    if n%i==0:\n",
    "        x = i\n",
    "        y = n//i\n",
    "        break\n",
    "print(x+y-2)"
   ]
  },
  {
   "cell_type": "code",
   "execution_count": 21,
   "metadata": {},
   "outputs": [
    {
     "name": "stdout",
     "output_type": "stream",
     "text": [
      "3 1 8\n",
      "4.23639479905884\n"
     ]
    }
   ],
   "source": [
    "import math\n",
    "a,b,x = list(map(int,input().split()))\n",
    "if x<=a*a*b/2:\n",
    "    c = x/a/b*2\n",
    "    print(math.degrees(math.atan(b/c)))\n",
    "else:\n",
    "    v = a*a*b-x\n",
    "    c = v/a/a*2\n",
    "    print(math.degrees(math.atan(c/a)))"
   ]
  },
  {
   "cell_type": "code",
   "execution_count": null,
   "metadata": {},
   "outputs": [],
   "source": []
  }
 ],
 "metadata": {
  "kernelspec": {
   "display_name": "Python 3",
   "language": "python",
   "name": "python3"
  },
  "language_info": {
   "codemirror_mode": {
    "name": "ipython",
    "version": 3
   },
   "file_extension": ".py",
   "mimetype": "text/x-python",
   "name": "python",
   "nbconvert_exporter": "python",
   "pygments_lexer": "ipython3",
   "version": "3.7.0"
  }
 },
 "nbformat": 4,
 "nbformat_minor": 2
}
