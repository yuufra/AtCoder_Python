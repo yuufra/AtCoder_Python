{
 "cells": [
  {
   "cell_type": "code",
   "execution_count": 2,
   "metadata": {},
   "outputs": [
    {
     "name": "stdout",
     "output_type": "stream",
     "text": [
      "13 7 2\n",
      "bust\n"
     ]
    }
   ],
   "source": [
    "a,b,c = list(map(int,input().split()))\n",
    "print('bust' if a+b+c>=22 else 'win')"
   ]
  },
  {
   "cell_type": "code",
   "execution_count": 4,
   "metadata": {},
   "outputs": [
    {
     "name": "stdout",
     "output_type": "stream",
     "text": [
      "abcdabc\n",
      "2\n"
     ]
    }
   ],
   "source": [
    "s = input()\n",
    "cnt = 0\n",
    "for i in range(len(s)//2):\n",
    "    if s[i]!=s[len(s)-1-i]:\n",
    "        cnt+=1\n",
    "print(cnt)"
   ]
  },
  {
   "cell_type": "code",
   "execution_count": 9,
   "metadata": {},
   "outputs": [
    {
     "name": "stdout",
     "output_type": "stream",
     "text": [
      "2\n",
      "1\n",
      "2 0\n",
      "1\n",
      "1 0\n",
      "1\n"
     ]
    }
   ],
   "source": [
    "n = int(input())\n",
    "a = [0]*n\n",
    "x = [[] for i in range(n)]\n",
    "y = [[] for i in range(n)]\n",
    "for i in range(n):\n",
    "    a[i] = int(input())\n",
    "    for j in range(a[i]):\n",
    "        tmp1,tmp2 = list(map(int,input().split()))\n",
    "        x[i].append(tmp1-1)\n",
    "        y[i].append(tmp2)\n",
    "\n",
    "ans = 0\n",
    "honest = [0]*n\n",
    "for i in range(2**n): #bit全探索\n",
    "    for j in range(n):\n",
    "        if((i>>j)&1):\n",
    "            honest[j] = 1\n",
    "        else:\n",
    "            honest[j] = 0\n",
    "            \n",
    "        f = True\n",
    "        for k in range(n):\n",
    "            for l in range(a[k]):\n",
    "                if(honest[k]==1 and y[k][l]!=honest[x[k][l]]):\n",
    "                    f = False\n",
    "                    break\n",
    "        if f:\n",
    "            ans = max(ans,honest.count(1))\n",
    "\n",
    "print(ans)"
   ]
  },
  {
   "cell_type": "code",
   "execution_count": null,
   "metadata": {},
   "outputs": [],
   "source": []
  }
 ],
 "metadata": {
  "kernelspec": {
   "display_name": "Python 3",
   "language": "python",
   "name": "python3"
  },
  "language_info": {
   "codemirror_mode": {
    "name": "ipython",
    "version": 3
   },
   "file_extension": ".py",
   "mimetype": "text/x-python",
   "name": "python",
   "nbconvert_exporter": "python",
   "pygments_lexer": "ipython3",
   "version": "3.7.0"
  }
 },
 "nbformat": 4,
 "nbformat_minor": 2
}
