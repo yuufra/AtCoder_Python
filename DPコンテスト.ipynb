{
 "cells": [
  {
   "cell_type": "code",
   "execution_count": 4,
   "metadata": {},
   "outputs": [
    {
     "name": "stdout",
     "output_type": "stream",
     "text": [
      "6\n",
      "30 10 60 10 60 50\n",
      "40\n"
     ]
    }
   ],
   "source": [
    "#A\n",
    "n = int(input())\n",
    "h = list(map(int,input().split()))\n",
    "\n",
    "cost = [0]*n\n",
    "for i in range(n):\n",
    "    if i == 0:\n",
    "        continue\n",
    "    if i == 1:\n",
    "        cost[i] = abs(h[i]-h[i-1])\n",
    "        continue\n",
    "    cost[i] = min(cost[i-1]+abs(h[i]-h[i-1]),cost[i-2]+abs(h[i]-h[i-2]))\n",
    "print(cost[n-1])"
   ]
  },
  {
   "cell_type": "code",
   "execution_count": 2,
   "metadata": {},
   "outputs": [
    {
     "name": "stdout",
     "output_type": "stream",
     "text": [
      "5 3\n",
      "10 30 40 50 20\n",
      "30\n"
     ]
    }
   ],
   "source": [
    "#B\n",
    "n,k = list(map(int,input().split()))\n",
    "h = list(map(int,input().split()))\n",
    "\n",
    "dp = [float('inf')]*n\n",
    "for i in range(n):\n",
    "    if i == 0:\n",
    "        dp[i] = 0\n",
    "        continue    \n",
    "    for j in range(1,k+1):\n",
    "        if i-j>=0:\n",
    "            dp[i] = min(dp[i],dp[i-j]+abs(h[i]-h[i-j]))\n",
    "print(dp[n-1])"
   ]
  },
  {
   "cell_type": "code",
   "execution_count": 21,
   "metadata": {
    "scrolled": false
   },
   "outputs": [
    {
     "name": "stdout",
     "output_type": "stream",
     "text": [
      "7\n",
      "6 7 8\n",
      "8 8 3\n",
      "2 5 2\n",
      "7 8 6\n",
      "4 6 8\n",
      "2 3 4\n",
      "7 5 1\n",
      "[[6, 7, 8], [16, 16, 10], [0, 0, 0], [0, 0, 0], [0, 0, 0], [0, 0, 0], [0, 0, 0]]\n",
      "[[6, 7, 8], [16, 16, 10], [18, 21, 18], [0, 0, 0], [0, 0, 0], [0, 0, 0], [0, 0, 0]]\n",
      "[[6, 7, 8], [16, 16, 10], [18, 21, 18], [28, 26, 27], [0, 0, 0], [0, 0, 0], [0, 0, 0]]\n",
      "[[6, 7, 8], [16, 16, 10], [18, 21, 18], [28, 26, 27], [31, 34, 36], [0, 0, 0], [0, 0, 0]]\n",
      "[[6, 7, 8], [16, 16, 10], [18, 21, 18], [28, 26, 27], [31, 34, 36], [38, 39, 38], [0, 0, 0]]\n",
      "[[6, 7, 8], [16, 16, 10], [18, 21, 18], [28, 26, 27], [31, 34, 36], [38, 39, 38], [46, 43, 40]]\n",
      "46\n"
     ]
    }
   ],
   "source": [
    "#C\n",
    "n = int(input())\n",
    "a = [[0 for i in range(3)] for j in range(n)]\n",
    "for i in range(n):\n",
    "    a[i] = list(map(int,input().split()))\n",
    "\n",
    "dp = [[0 for i in range(3)] for j in range(n)]\n",
    "for i in range(n):\n",
    "    if i == 0:\n",
    "        for j in range(3):\n",
    "            dp[i][j]=a[i][j]\n",
    "        continue\n",
    "    for j in range(3):\n",
    "        for k in range(3):\n",
    "            if j != k:\n",
    "                dp[i][j] = max(dp[i-1][k]+a[i][j],dp[i][j])\n",
    "print(max(dp[n-1]))"
   ]
  },
  {
   "cell_type": "code",
   "execution_count": 29,
   "metadata": {},
   "outputs": [
    {
     "name": "stdout",
     "output_type": "stream",
     "text": [
      "6 15\n",
      "6 5\n",
      "5 6\n",
      "6 4\n",
      "6 6\n",
      "3 5\n",
      "7 2\n",
      "17\n"
     ]
    }
   ],
   "source": [
    "#D\n",
    "n,W = list(map(int,input().split()))\n",
    "w = [0]*n\n",
    "v = [0]*n\n",
    "for i in range(n):\n",
    "    w[i],v[i] = list(map(int,input().split()))\n",
    "    \n",
    "dp = [[0 for i in range(W+1)] for j in range(n)]\n",
    "for i in range(n): #品物iまで\n",
    "    for j in range(W+1):\n",
    "        if j == 0:\n",
    "            dp[i][j] = 0\n",
    "            continue\n",
    "        if j-w[i] >= 0:\n",
    "            dp[i][j] = max(dp[i-1][j],dp[i-1][j-w[i]] + v[i])\n",
    "        else:\n",
    "            dp[i][j] = dp[i-1][j]\n",
    "print(max([dp[i][W]for i in range(n)]))"
   ]
  },
  {
   "cell_type": "code",
   "execution_count": 58,
   "metadata": {},
   "outputs": [
    {
     "name": "stdout",
     "output_type": "stream",
     "text": [
      "6 15\n",
      "6 5\n",
      "5 6\n",
      "6 4\n",
      "6 6\n",
      "3 5\n",
      "7 2\n",
      "[0, inf, inf, inf, inf, inf, inf, inf, inf, inf, inf, inf, inf, inf, inf, inf, inf, inf, inf, inf, inf, inf, inf, inf, inf, inf, inf, inf, inf, inf, inf, inf, inf, inf, inf, inf, inf]\n",
      "[0, inf, inf, inf, inf, 6, inf, inf, inf, inf, inf, inf, inf, inf, inf, inf, inf, inf, inf, inf, inf, inf, inf, inf, inf, inf, inf, inf, inf, inf, inf, inf, inf, inf, inf, inf, inf]\n",
      "[0, inf, inf, inf, inf, 6, 5, inf, inf, inf, inf, 11, inf, inf, inf, inf, inf, inf, inf, inf, inf, inf, inf, inf, inf, inf, inf, inf, inf, inf, inf, inf, inf, inf, inf, inf, inf]\n",
      "[0, inf, inf, inf, 6, 6, 5, inf, inf, 12, 11, 11, inf, inf, inf, 17, inf, inf, inf, inf, inf, inf, inf, inf, inf, inf, inf, inf, inf, inf, inf, inf, inf, inf, inf, inf, inf]\n",
      "[0, inf, inf, inf, 6, 6, 5, inf, inf, 12, 11, 11, 11, inf, inf, 17, 17, 17, inf, inf, inf, 23, inf, inf, inf, inf, inf, inf, inf, inf, inf, inf, inf, inf, inf, inf, inf]\n",
      "[0, inf, inf, inf, 6, 3, 5, inf, inf, 9, 9, 8, 11, inf, 15, 14, 14, 14, inf, inf, 20, 20, 20, inf, inf, inf, 26, inf, inf, inf, inf, inf, inf, inf, inf, inf, inf]\n",
      "[0, inf, 7, inf, 6, 3, 5, 10, 12, 9, 9, 8, 11, 15, 15, 14, 14, 14, 21, 21, 20, 20, 20, 27, 27, inf, 26, inf, 33, inf, inf, inf, inf, inf, inf, inf, inf]\n",
      "17\n"
     ]
    }
   ],
   "source": [
    "#E\n",
    "n,W = list(map(int,input().split()))\n",
    "w = [0]*(n+1)\n",
    "v = [0]*(n+1)\n",
    "for i in range(1,n+1):\n",
    "    w[i],v[i]=list(map(int,input().split()))\n",
    "V = n*max(v)\n",
    "\n",
    "dp = [[float('inf') for i in range(V+1)] for j in range(n+1)]\n",
    "#i番目(1:n)の品物までを使って価値の総和がjになるようなときの重さの最小値\n",
    "dp[0][0] = 0\n",
    "for i in range(1,n+1):\n",
    "    for j in range(V+1): #価値\n",
    "        if j-v[i]>=0:\n",
    "            dp[i][j] = min(dp[i-1][j],dp[i-1][j-v[i]]+w[i])\n",
    "        else:\n",
    "            dp[i][j] = dp[i-1][j]\n",
    "# for i in range(n+1):\n",
    "#     print(dp[i])\n",
    "print(max([j for j in range(V+1) if dp[n][j]<=W]))"
   ]
  },
  {
   "cell_type": "code",
   "execution_count": null,
   "metadata": {},
   "outputs": [],
   "source": []
  }
 ],
 "metadata": {
  "kernelspec": {
   "display_name": "Python 3",
   "language": "python",
   "name": "python3"
  },
  "language_info": {
   "codemirror_mode": {
    "name": "ipython",
    "version": 3
   },
   "file_extension": ".py",
   "mimetype": "text/x-python",
   "name": "python",
   "nbconvert_exporter": "python",
   "pygments_lexer": "ipython3",
   "version": "3.7.0"
  }
 },
 "nbformat": 4,
 "nbformat_minor": 2
}
