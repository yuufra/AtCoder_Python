{
 "cells": [
  {
   "cell_type": "code",
   "execution_count": 2,
   "metadata": {},
   "outputs": [
    {
     "name": "stdout",
     "output_type": "stream",
     "text": [
      "oder atc\n",
      "atcoder\n"
     ]
    }
   ],
   "source": [
    "s,t = input().split()\n",
    "print(t+s)"
   ]
  },
  {
   "cell_type": "code",
   "execution_count": 7,
   "metadata": {},
   "outputs": [
    {
     "name": "stdout",
     "output_type": "stream",
     "text": [
      "2 3 6\n",
      "0 0\n"
     ]
    }
   ],
   "source": [
    "a,b,k = list(map(int,input().split()))\n",
    "if k <= a:\n",
    "    print(a-k,b)\n",
    "else:\n",
    "    print(0,max(0,b-(k-a)))"
   ]
  },
  {
   "cell_type": "code",
   "execution_count": 39,
   "metadata": {},
   "outputs": [
    {
     "name": "stdout",
     "output_type": "stream",
     "text": [
      "99992\n",
      "100003\n"
     ]
    }
   ],
   "source": [
    "x = int(input())\n",
    "prime = [2]\n",
    "for i in range(3,320,2):\n",
    "    flag = True\n",
    "    for j in prime:\n",
    "        if i%j==0:\n",
    "            flag = False\n",
    "            break\n",
    "    if flag:\n",
    "        prime.append(i)\n",
    "if x<=317:\n",
    "    for i in range(len(prime)):\n",
    "        if x<=prime[i]:\n",
    "            print(prime[i])\n",
    "            break\n",
    "else:\n",
    "    for i in range(x,x+100):\n",
    "        flag = True\n",
    "        for j in prime:\n",
    "            if i%j==0:\n",
    "                flag = False\n",
    "                continue\n",
    "        if flag:\n",
    "            print(i)\n",
    "            break"
   ]
  },
  {
   "cell_type": "code",
   "execution_count": 46,
   "metadata": {},
   "outputs": [
    {
     "name": "stdout",
     "output_type": "stream",
     "text": [
      "30 5\n",
      "325 234 123\n",
      "rspsspspsrpspsppprpsprpssprpsr\n",
      "4996\n"
     ]
    }
   ],
   "source": [
    "n,k = list(map(int,input().split()))\n",
    "r,s,p = list(map(int,input().split()))\n",
    "t = input()\n",
    "\n",
    "def opt(c):\n",
    "    if c=='r':\n",
    "        return 'p'\n",
    "    if c=='s':\n",
    "        return 'r'\n",
    "    if c=='p':\n",
    "        return 's'\n",
    "\n",
    "def sec(c,x):\n",
    "    if x!=opt(c):\n",
    "        return opt(c)\n",
    "    else:\n",
    "        return 'x'\n",
    "    \n",
    "def cnt(ans):\n",
    "    c = 0\n",
    "    for i in range(len(ans)):\n",
    "        if ans[i]=='r':\n",
    "            c+=r\n",
    "        if ans[i]=='s':\n",
    "            c+=s\n",
    "        if ans[i]=='p':\n",
    "            c+=p\n",
    "    return c\n",
    "\n",
    "\n",
    "ans = \"\"\n",
    "for i in range(len(t)):\n",
    "    if i-k>=0:\n",
    "        ans+=sec(t[i],ans[i-k])\n",
    "    else:\n",
    "        ans+=opt(t[i])\n",
    "        \n",
    "print(cnt(ans))"
   ]
  },
  {
   "cell_type": "code",
   "execution_count": 60,
   "metadata": {},
   "outputs": [
    {
     "name": "stdout",
     "output_type": "stream",
     "text": [
      "5 3\n",
      "10 14 19 34 33\n",
      "[(-67, 3, 4), (-67, 4, 3)]\n",
      "[(-67, 4, 3), (-66, 3, 3), (-53, 2, 4)]\n",
      "[(-66, 3, 3), (-66, 3, 3), (-53, 2, 4), (-53, 4, 2)]\n",
      "202\n"
     ]
    }
   ],
   "source": [
    "#ACしていない\n",
    "import heapq\n",
    "\n",
    "n,m = list(map(int,input().split()))\n",
    "a = list(map(int,input().split()))\n",
    "a.sort()\n",
    "\n",
    "q = [(-a[len(a)-1]*2,len(a)-1,len(a)-1)]\n",
    "heapq.heapify(q)\n",
    "cnt=0\n",
    "ans=0\n",
    "while(cnt<m):\n",
    "    tmp = heapq.nsmallest(1,q)\n",
    "    if tmp[0][1]-1>=0: #重複が除けない？\n",
    "        heapq.heappush(q,(-a[tmp[0][1]-1]-a[tmp[0][2]],tmp[0][1]-1,tmp[0][2]))\n",
    "    if tmp[0][2]-1>=0:\n",
    "        heapq.heappush(q,(-a[tmp[0][1]]-a[tmp[0][2]-1],tmp[0][1],tmp[0][2]-1))\n",
    "    ans-=heapq.heappop(q)[0]\n",
    "    print(q)\n",
    "    cnt+=1\n",
    "print(ans)"
   ]
  },
  {
   "cell_type": "code",
   "execution_count": null,
   "metadata": {},
   "outputs": [],
   "source": []
  }
 ],
 "metadata": {
  "kernelspec": {
   "display_name": "Python 3",
   "language": "python",
   "name": "python3"
  },
  "language_info": {
   "codemirror_mode": {
    "name": "ipython",
    "version": 3
   },
   "file_extension": ".py",
   "mimetype": "text/x-python",
   "name": "python",
   "nbconvert_exporter": "python",
   "pygments_lexer": "ipython3",
   "version": "3.7.0"
  }
 },
 "nbformat": 4,
 "nbformat_minor": 2
}
