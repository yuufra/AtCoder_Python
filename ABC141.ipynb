{
 "cells": [
  {
   "cell_type": "code",
   "execution_count": 2,
   "metadata": {},
   "outputs": [
    {
     "name": "stdout",
     "output_type": "stream",
     "text": [
      "Rainy\n",
      "Sunny\n"
     ]
    }
   ],
   "source": [
    "s = input()\n",
    "if s == 'Sunny':\n",
    "    print('Cloudy')\n",
    "elif s == 'Cloudy':\n",
    "    print('Rainy')\n",
    "else:\n",
    "    print('Sunny')    "
   ]
  },
  {
   "cell_type": "code",
   "execution_count": 7,
   "metadata": {},
   "outputs": [
    {
     "name": "stdout",
     "output_type": "stream",
     "text": [
      "RDULULDURURLRDULRLR\n",
      "Yes\n"
     ]
    }
   ],
   "source": [
    "s = input()\n",
    "flag = False\n",
    "for i in range(len(s)):\n",
    "    if i%2==0 and s[i]=='L': #奇数\n",
    "        flag = True\n",
    "    elif i%2==1 and s[i]=='R':\n",
    "        flag = True\n",
    "print('No' if flag else 'Yes')"
   ]
  },
  {
   "cell_type": "code",
   "execution_count": 12,
   "metadata": {},
   "outputs": [
    {
     "name": "stdout",
     "output_type": "stream",
     "text": [
      "10 13 15\n",
      "3\n",
      "1\n",
      "4\n",
      "1\n",
      "5\n",
      "9\n",
      "2\n",
      "6\n",
      "5\n",
      "3\n",
      "5\n",
      "8\n",
      "9\n",
      "7\n",
      "9\n",
      "No\n",
      "No\n",
      "No\n",
      "No\n",
      "Yes\n",
      "No\n",
      "No\n",
      "No\n",
      "Yes\n",
      "No\n"
     ]
    }
   ],
   "source": [
    "n,k,q = list(map(int,input().split()))\n",
    "a = [0]*q\n",
    "for i in range(q):\n",
    "    a[i] = int(input())-1\n",
    "\n",
    "ans = [k-q]*n\n",
    "for i in range(q):\n",
    "    ans[a[i]] += 1\n",
    "for i in range(n):\n",
    "    print('Yes' if ans[i]>0 else 'No')"
   ]
  },
  {
   "cell_type": "code",
   "execution_count": 22,
   "metadata": {},
   "outputs": [
    {
     "name": "stdout",
     "output_type": "stream",
     "text": [
      "10 1\n",
      "1000000000 1000000000 1000000000 1000000000 1000000000 1000000000 1000000000 1000000000 1000000000 1000000000\n",
      "9500000000\n"
     ]
    }
   ],
   "source": [
    "#ヒープ木！！！\n",
    "import heapq\n",
    "n,m = list(map(int,input().split()))\n",
    "a = list(map(int,input().split()))\n",
    "a = [(-x,x) for x in a]\n",
    "heapq.heapify(a)\n",
    "for i in range(m):\n",
    "    new = a[0][1]//2\n",
    "    heapq.heappop(a)\n",
    "    heapq.heappush(a,(-new,new))\n",
    "a = [a[i][1] for i in range(len(a))]\n",
    "print(sum(a))"
   ]
  },
  {
   "cell_type": "code",
   "execution_count": null,
   "metadata": {},
   "outputs": [],
   "source": []
  }
 ],
 "metadata": {
  "kernelspec": {
   "display_name": "Python 3",
   "language": "python",
   "name": "python3"
  },
  "language_info": {
   "codemirror_mode": {
    "name": "ipython",
    "version": 3
   },
   "file_extension": ".py",
   "mimetype": "text/x-python",
   "name": "python",
   "nbconvert_exporter": "python",
   "pygments_lexer": "ipython3",
   "version": "3.7.0"
  }
 },
 "nbformat": 4,
 "nbformat_minor": 2
}
