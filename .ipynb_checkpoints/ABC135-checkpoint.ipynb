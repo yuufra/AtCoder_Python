{
 "cells": [
  {
   "cell_type": "code",
   "execution_count": 5,
   "metadata": {},
   "outputs": [
    {
     "name": "stdout",
     "output_type": "stream",
     "text": [
      "998244353 99824435\n",
      "549034394\n"
     ]
    }
   ],
   "source": [
    "a = list(map(int,input().split()))\n",
    "if (a[0]+a[1])%2 == 0:\n",
    "    print(int((a[0]+a[1])/2))\n",
    "else:\n",
    "    print('IMPOSSIBLE')"
   ]
  },
  {
   "cell_type": "code",
   "execution_count": 9,
   "metadata": {},
   "outputs": [
    {
     "name": "stdout",
     "output_type": "stream",
     "text": [
      "7\n",
      "1 2 3 4 5 6 7\n",
      "YES\n"
     ]
    }
   ],
   "source": [
    "n = int(input())\n",
    "p = list(map(int,input().split()))\n",
    "\n",
    "k = []\n",
    "for i in range(len(p)):\n",
    "    if p[i] != i+1:\n",
    "        k.append(i)\n",
    "if len(k) == 2 or len(k) == 0:\n",
    "    print('YES')\n",
    "else:\n",
    "    print('NO')"
   ]
  },
  {
   "cell_type": "code",
   "execution_count": 6,
   "metadata": {},
   "outputs": [
    {
     "name": "stdout",
     "output_type": "stream",
     "text": [
      "2\n",
      "100 1 1\n",
      "1 100\n",
      "3\n"
     ]
    }
   ],
   "source": [
    "n = int(input())\n",
    "a = list(map(int,input().split()))\n",
    "b = list(map(int,input().split()))\n",
    "\n",
    "k = 0\n",
    "suc = 0\n",
    "for i in range(n):\n",
    "    if b[i]+suc >= a[i]:\n",
    "        k += a[i]\n",
    "        if suc >= a[i]:\n",
    "            suc = b[i]\n",
    "        else:\n",
    "            suc = b[i]+suc-a[i]\n",
    "    else:\n",
    "        k += b[i]+suc\n",
    "        suc = 0\n",
    "\n",
    "if suc >= a[n]:\n",
    "    k += a[n]\n",
    "else:\n",
    "    k += suc\n",
    "    \n",
    "print(k)"
   ]
  },
  {
   "cell_type": "code",
   "execution_count": null,
   "metadata": {},
   "outputs": [],
   "source": []
  }
 ],
 "metadata": {
  "kernelspec": {
   "display_name": "Python 3",
   "language": "python",
   "name": "python3"
  },
  "language_info": {
   "codemirror_mode": {
    "name": "ipython",
    "version": 3
   },
   "file_extension": ".py",
   "mimetype": "text/x-python",
   "name": "python",
   "nbconvert_exporter": "python",
   "pygments_lexer": "ipython3",
   "version": "3.7.0"
  }
 },
 "nbformat": 4,
 "nbformat_minor": 2
}
