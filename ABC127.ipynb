{
 "cells": [
  {
   "cell_type": "code",
   "execution_count": 9,
   "metadata": {},
   "outputs": [
    {
     "name": "stdout",
     "output_type": "stream",
     "text": [
      "12 100\n",
      "50\n"
     ]
    }
   ],
   "source": [
    "s = list(map(int,input().split()))\n",
    "\n",
    "if s[0] >= 13:\n",
    "    print(s[1])\n",
    "elif s[0] >= 6:\n",
    "    print(int(s[1]/2))\n",
    "else:\n",
    "    print(0)"
   ]
  },
  {
   "cell_type": "code",
   "execution_count": 11,
   "metadata": {},
   "outputs": [
    {
     "name": "stdout",
     "output_type": "stream",
     "text": [
      "4 40 60\n",
      "200\n",
      "760\n",
      "3000\n",
      "11960\n",
      "47800\n",
      "191160\n",
      "764600\n",
      "3058360\n",
      "12233400\n",
      "48933560\n"
     ]
    }
   ],
   "source": [
    "s = list(map(int,input().split()))\n",
    "r = s[0]\n",
    "d = s[1]\n",
    "x = s[2]\n",
    "\n",
    "for i in range(10):\n",
    "    x = r*x - d\n",
    "    print(x)"
   ]
  },
  {
   "cell_type": "code",
   "execution_count": 20,
   "metadata": {},
   "outputs": [
    {
     "name": "stdout",
     "output_type": "stream",
     "text": [
      "100000 1\n",
      "1 100000\n",
      "100000\n"
     ]
    }
   ],
   "source": [
    "s = list(map(int,input().split()))\n",
    "l = [0]*s[1]\n",
    "r = [0]*s[1]\n",
    "for i in range(s[1]):\n",
    "    l[i], r[i] = list(map(int,input().split()))\n",
    "    \n",
    "lmax=0\n",
    "rmin=s[0]\n",
    "for i in range(s[1]):\n",
    "    if l[i] > lmax:\n",
    "        lmax = l[i]\n",
    "    if r[i] < rmin:\n",
    "        rmin = r[i]\n",
    "if lmax > rmin:\n",
    "    print(0)\n",
    "else:\n",
    "    print(-lmax+rmin+1)"
   ]
  },
  {
   "cell_type": "code",
   "execution_count": null,
   "metadata": {},
   "outputs": [],
   "source": [
    "s = list(map(int,input().split()))\n",
    "a = list(map(int,input().split()))\n",
    "b = [0]*s[1]\n",
    "c = [0]*s[1]\n",
    "for i in range(s[1]):\n",
    "    b[i], c[i] = list(map(int,input().split()))\n",
    "\n",
    "ans = 0\n",
    "a.sort(reverse=True)\n",
    "bsum = 0\n",
    "for i in range(s[1]):\n",
    "    bsum = b[i]\n",
    "if bsum < s[0]:\n",
    "    for i in range(s[0]-bsum):\n",
    "        ans += a[i]\n",
    "    pre = [0]*(2*bsum)\n",
    "    for i in range(bsum):\n",
    "        pre[i] = a[s[0]-bsum+i]\n",
    "\n",
    "else:\n",
    "    pre = [0]*(2*s[0])\n",
    "    for i in range(s[0]):\n",
    "        pre[i] = a[i]"
   ]
  }
 ],
 "metadata": {
  "kernelspec": {
   "display_name": "Python 3",
   "language": "python",
   "name": "python3"
  },
  "language_info": {
   "codemirror_mode": {
    "name": "ipython",
    "version": 3
   },
   "file_extension": ".py",
   "mimetype": "text/x-python",
   "name": "python",
   "nbconvert_exporter": "python",
   "pygments_lexer": "ipython3",
   "version": "3.7.0"
  }
 },
 "nbformat": 4,
 "nbformat_minor": 2
}
