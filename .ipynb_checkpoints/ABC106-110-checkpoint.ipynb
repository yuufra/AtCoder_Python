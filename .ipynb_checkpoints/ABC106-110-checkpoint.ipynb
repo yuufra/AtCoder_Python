{
 "cells": [
  {
   "cell_type": "code",
   "execution_count": 7,
   "metadata": {},
   "outputs": [
    {
     "name": "stdout",
     "output_type": "stream",
     "text": [
      "5 7\n",
      "24\n"
     ]
    }
   ],
   "source": [
    "#ABC106A\n",
    "a,b = list(map(int,input().split()))\n",
    "print((a-1)*(b-1))"
   ]
  },
  {
   "cell_type": "code",
   "execution_count": 25,
   "metadata": {},
   "outputs": [
    {
     "name": "stdout",
     "output_type": "stream",
     "text": [
      "200\n",
      "5\n"
     ]
    }
   ],
   "source": [
    "#ABC106B\n",
    "n = int(input())\n",
    "ans = 0\n",
    "for i in range(1,n+1,2): #rangeのstepがある場合は注意\n",
    "    tmp = 0\n",
    "    for j in range(1,i+1):\n",
    "        if i%j == 0:\n",
    "            tmp += 1\n",
    "    if tmp == 8:\n",
    "        ans += 1\n",
    "print(ans)"
   ]
  },
  {
   "cell_type": "code",
   "execution_count": 28,
   "metadata": {},
   "outputs": [
    {
     "name": "stdout",
     "output_type": "stream",
     "text": [
      "15 11\n",
      "5\n"
     ]
    }
   ],
   "source": [
    "#ABC107A\n",
    "n,i = list(map(int,input().split()))\n",
    "print(n+1-i)"
   ]
  },
  {
   "cell_type": "code",
   "execution_count": 42,
   "metadata": {},
   "outputs": [
    {
     "name": "stdout",
     "output_type": "stream",
     "text": [
      "4 5\n",
      ".....\n",
      ".....\n",
      "..#..\n",
      ".....\n",
      "#\n"
     ]
    }
   ],
   "source": [
    "#ABC107B\n",
    "#and(.)よりor(#)のほうが見やすい\n",
    "h,w = list(map(int,input().split()))\n",
    "a = [0]*h\n",
    "for i in range(h):\n",
    "    a[i] = input()\n",
    "\n",
    "h_d = []\n",
    "for i in range(h):\n",
    "    cnt = 0\n",
    "    for j in range(w):\n",
    "        if a[i][j] != '.':\n",
    "            break\n",
    "        cnt += 1\n",
    "    if cnt == w:\n",
    "        h_d.append(i)\n",
    "a = [a[i] for i in range(h) if i not in h_d]\n",
    "\n",
    "h_ = len(a)\n",
    "w_d = []\n",
    "for j in range(w):\n",
    "    cnt = 0\n",
    "    for i in range(h_):\n",
    "        if a[i][j] != '.':\n",
    "            break\n",
    "        cnt += 1\n",
    "    if cnt == h_:\n",
    "        w_d.append(j)\n",
    "a = [[a[j][i] for i in range(w) if i not in w_d]for j in range(h_)]\n",
    "\n",
    "for i in range(h_):\n",
    "    print(''.join(a[i]))"
   ]
  },
  {
   "cell_type": "code",
   "execution_count": 47,
   "metadata": {},
   "outputs": [
    {
     "name": "stdout",
     "output_type": "stream",
     "text": [
      "50\n",
      "625\n"
     ]
    }
   ],
   "source": [
    "#ABC108A\n",
    "k = int(input())\n",
    "print((k//2)*((k+1)//2))"
   ]
  },
  {
   "cell_type": "code",
   "execution_count": 51,
   "metadata": {},
   "outputs": [
    {
     "name": "stdout",
     "output_type": "stream",
     "text": [
      "31 -41 -59 26\n",
      "-126 -64 -36 -131\n"
     ]
    }
   ],
   "source": [
    "#ABC108B\n",
    "x1,y1,x2,y2 = map(int,input().split())\n",
    "a = x2-x1\n",
    "b = y2-y1\n",
    "x3 = x2-b\n",
    "y3 = y2+a\n",
    "x4 = x3-a\n",
    "y4 = y3-b\n",
    "print(x3,y3,x4,y4)"
   ]
  },
  {
   "cell_type": "code",
   "execution_count": 54,
   "metadata": {},
   "outputs": [
    {
     "name": "stdout",
     "output_type": "stream",
     "text": [
      "2 2\n",
      "No\n"
     ]
    }
   ],
   "source": [
    "#ABC109A\n",
    "a,b = map(int,input().split())\n",
    "print('Yes' if a%2==1 and b%2==1 else 'No')"
   ]
  },
  {
   "cell_type": "code",
   "execution_count": 59,
   "metadata": {},
   "outputs": [
    {
     "name": "stdout",
     "output_type": "stream",
     "text": [
      "4\n",
      "hoge\n",
      "english\n",
      "hoge\n",
      "enigma\n",
      "No\n"
     ]
    }
   ],
   "source": [
    "#ABC109B\n",
    "n = int(input())\n",
    "w = [0]*n\n",
    "for i in range(n):\n",
    "    w[i] = input() #文字列なのでintはいらない\n",
    "    \n",
    "flag = False\n",
    "for i in range(n-1):\n",
    "    if w[i][len(w[i])-1] != w[i+1][0]:\n",
    "        flag = True\n",
    "\n",
    "s = set()\n",
    "for i in range(n):\n",
    "    if w[i] in s:\n",
    "        flag = True\n",
    "    else:\n",
    "        s.add(w[i])\n",
    "\n",
    "print('No' if flag else 'Yes')"
   ]
  },
  {
   "cell_type": "code",
   "execution_count": 62,
   "metadata": {},
   "outputs": [
    {
     "name": "stdout",
     "output_type": "stream",
     "text": [
      "6 6 7\n",
      "82\n"
     ]
    }
   ],
   "source": [
    "#ABC110A\n",
    "a = list(map(int,input().split()))\n",
    "a.sort()\n",
    "print(a[0]+a[1]+a[2]*10)"
   ]
  },
  {
   "cell_type": "code",
   "execution_count": 67,
   "metadata": {},
   "outputs": [
    {
     "name": "stdout",
     "output_type": "stream",
     "text": [
      "5 3 6 8\n",
      "-10 3 1 5 -100\n",
      "100 6 14\n",
      "War\n"
     ]
    }
   ],
   "source": [
    "#ABC110B\n",
    "n,m,X,Y = map(int,input().split())\n",
    "x = list(map(int,input().split()))\n",
    "y = list(map(int,input().split()))\n",
    "\n",
    "l = max(x)\n",
    "r = min(y)\n",
    "flag = False\n",
    "for z in range(X+1,Y+1):\n",
    "    if l<z and z<=r:\n",
    "        flag = True\n",
    "        break\n",
    "print('No War' if flag else 'War')"
   ]
  },
  {
   "cell_type": "code",
   "execution_count": 17,
   "metadata": {},
   "outputs": [
    {
     "name": "stdout",
     "output_type": "stream",
     "text": [
      "112\n",
      "3\n",
      "2 2\n"
     ]
    }
   ],
   "source": [
    "#ABC106C\n",
    "s=input()\n",
    "k=int(input())\n",
    "cnt=0\n",
    "while(s[cnt]=='1' and cnt!=len(s)-1):\n",
    "    cnt+=1\n",
    "if(k-1<cnt):\n",
    "    print('1')\n",
    "else:\n",
    "    print(s[cnt])"
   ]
  },
  {
   "cell_type": "code",
   "execution_count": 11,
   "metadata": {},
   "outputs": [
    {
     "name": "stdout",
     "output_type": "stream",
     "text": [
      "1 1\n",
      "0\n",
      "0\n"
     ]
    }
   ],
   "source": [
    "#ABC107C\n",
    "n,k=list(map(int,input().split()))\n",
    "x = list(map(int,input().split()))\n",
    "m = 10**9\n",
    "for i in range(n-k+1):\n",
    "    r = i+k-1\n",
    "    if x[r]<0:\n",
    "        m = min(m,abs(x[i]))\n",
    "    elif x[i]>0:\n",
    "        m = min(m,x[r])\n",
    "    else:\n",
    "        m = min(m,abs(x[i])*2+x[r],abs(x[i])+x[r]*2)\n",
    "print(m)"
   ]
  },
  {
   "cell_type": "code",
   "execution_count": 31,
   "metadata": {},
   "outputs": [
    {
     "name": "stdout",
     "output_type": "stream",
     "text": [
      "35897 932\n",
      "114191\n"
     ]
    }
   ],
   "source": [
    "#ABC108C\n",
    "n,k=list(map(int,input().split()))\n",
    "if k%2!=0:\n",
    "    print((n//k)**3)\n",
    "else:\n",
    "    print((n//k)**3+(n//(k//2)-n//k)**3)"
   ]
  },
  {
   "cell_type": "code",
   "execution_count": null,
   "metadata": {},
   "outputs": [],
   "source": []
  }
 ],
 "metadata": {
  "kernelspec": {
   "display_name": "Python 3",
   "language": "python",
   "name": "python3"
  },
  "language_info": {
   "codemirror_mode": {
    "name": "ipython",
    "version": 3
   },
   "file_extension": ".py",
   "mimetype": "text/x-python",
   "name": "python",
   "nbconvert_exporter": "python",
   "pygments_lexer": "ipython3",
   "version": "3.7.0"
  }
 },
 "nbformat": 4,
 "nbformat_minor": 2
}
