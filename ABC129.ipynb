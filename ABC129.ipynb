{
 "cells": [
  {
   "cell_type": "code",
   "execution_count": 3,
   "metadata": {},
   "outputs": [
    {
     "name": "stdout",
     "output_type": "stream",
     "text": [
      "3 2 3\n",
      "5\n"
     ]
    }
   ],
   "source": [
    "a = list(map(int,input().split()))\n",
    "a.sort()\n",
    "print(a[0]+a[1])"
   ]
  },
  {
   "cell_type": "code",
   "execution_count": 7,
   "metadata": {},
   "outputs": [
    {
     "name": "stdout",
     "output_type": "stream",
     "text": [
      "8\n",
      "27 23 76 2 3 5 62 52\n",
      "2\n"
     ]
    }
   ],
   "source": [
    "n = int(input())\n",
    "w = list(map(int,input().split()))\n",
    "\n",
    "s = sum(w)\n",
    "s1 = 0\n",
    "temp = s\n",
    "for i in range(n-1):\n",
    "    s1 += w[i]\n",
    "    if(abs((s-s1)-s1)<temp):\n",
    "        temp = abs((s-s1)-s1)\n",
    "print(temp)"
   ]
  },
  {
   "cell_type": "code",
   "execution_count": 68,
   "metadata": {
    "scrolled": true
   },
   "outputs": [
    {
     "name": "stdout",
     "output_type": "stream",
     "text": [
      "6 1\n",
      "3\n",
      "4\n"
     ]
    }
   ],
   "source": [
    "#from functools import lru_cache\n",
    "\n",
    "import sys\n",
    "sys.setrecursionlimit(100000) \n",
    "\n",
    "n,m = list(map(int,input().split()))\n",
    "a = [0]*m\n",
    "for i in range(m):\n",
    "    a[i] = int(input())\n",
    "memo = [-1]*(n+1)\n",
    "\n",
    "#@lru_cache(maxsize=100000)\n",
    "def stair(k):\n",
    "    if memo[k] != -1:\n",
    "        return memo[k]\n",
    "    else:\n",
    "        if k == 1:\n",
    "            if 1 not in a:\n",
    "                memo[k] = 1\n",
    "            else:\n",
    "                memo[k] = 0\n",
    "        elif k == 2:\n",
    "            if 2 not in a:\n",
    "                memo[k] = 1 + stair(1)\n",
    "            else:\n",
    "                memo[k] = 0 + stair(1)\n",
    "        elif k not in a:\n",
    "            if k-1 not in a:\n",
    "                if k-2 not in a:\n",
    "                    memo[k] = (stair(k-1)+stair(k-2))%1000000007\n",
    "                else:\n",
    "                    memo[k] = stair(k-1)\n",
    "            else:\n",
    "                if k-2 not in a:\n",
    "                    memo[k] = stair(k-2)\n",
    "                else:\n",
    "                    memo[k] = 0\n",
    "        else:\n",
    "            memo[k] = 0\n",
    "        return memo[k]\n",
    "\n",
    "print(stair(n))"
   ]
  },
  {
   "cell_type": "code",
   "execution_count": 63,
   "metadata": {},
   "outputs": [
    {
     "name": "stdout",
     "output_type": "stream",
     "text": [
      "6 1\n",
      "3\n",
      "[-1, -1, -1, 0, -1, -1, -1]\n",
      "[-1, -1, -1, 0, -1, -1, -1]\n",
      "[-1, -1, -1, 0, -1, -1, -1]\n",
      "[-1, -1, -1, 0, -1, -1, -1]\n",
      "[-1, -1, -1, 0, -1, -1, -1]\n",
      "[-1, -1, 0, 0, 0, -1, -1]\n",
      "[-1, -1, 0, 0, 0, 0, -1]\n",
      "0\n",
      "[-1, -1, 0, 0, 0, 0, 0]\n"
     ]
    }
   ],
   "source": [
    "#???\n",
    "import sys\n",
    "sys.setrecursionlimit(100000) \n",
    "\n",
    "n,m = list(map(int,input().split()))\n",
    "a = [0]*m\n",
    "for i in range(m):\n",
    "    a[i] = int(input())\n",
    "memo = [-1]*(n+1)\n",
    "for i in a:\n",
    "    memo[i] = 0\n",
    "\n",
    "def stair(k):\n",
    "    print(memo)\n",
    "    if memo[k] != -1:\n",
    "        return memo[k]\n",
    "    else:\n",
    "        if k == 1:\n",
    "            if 1 not in a:\n",
    "                memo[1] = 1\n",
    "        elif k == 2:\n",
    "            if 2 not in a:\n",
    "                memo[2] = 1 + memo[1]\n",
    "        elif k not in a:\n",
    "            if k-1 not in a or k-2 not in a:\n",
    "                memo[k] = (stair(k-1)+stair(k-2))%1000000007\n",
    "        return memo[k]\n",
    "\n",
    "print(stair(n))\n",
    "print(memo)"
   ]
  },
  {
   "cell_type": "code",
   "execution_count": 70,
   "metadata": {},
   "outputs": [
    {
     "name": "stdout",
     "output_type": "stream",
     "text": [
      "6 1\n",
      "3\n",
      "4\n"
     ]
    }
   ],
   "source": [
    "n,m = list(map(int,input().split()))\n",
    "a = [0]*m\n",
    "for i in range(m):\n",
    "    a[i] = int(input())\n",
    "dp = [0]*(n+2)\n",
    "for i in a:\n",
    "    dp[i] = -1\n",
    "dp[0] = 1\n",
    "\n",
    "for i in range(n):\n",
    "    if dp[i]<0:\n",
    "        continue\n",
    "    dp[i] %= 10**9+7\n",
    "    if dp[i+1]>=0:\n",
    "        dp[i+1] += dp[i]\n",
    "    if dp[i+2]>=0:\n",
    "        dp[i+2] += dp[i]\n",
    "\n",
    "print(dp[n]%(10**9+7))"
   ]
  },
  {
   "cell_type": "code",
   "execution_count": null,
   "metadata": {},
   "outputs": [],
   "source": []
  }
 ],
 "metadata": {
  "kernelspec": {
   "display_name": "Python 3",
   "language": "python",
   "name": "python3"
  },
  "language_info": {
   "codemirror_mode": {
    "name": "ipython",
    "version": 3
   },
   "file_extension": ".py",
   "mimetype": "text/x-python",
   "name": "python",
   "nbconvert_exporter": "python",
   "pygments_lexer": "ipython3",
   "version": "3.7.0"
  }
 },
 "nbformat": 4,
 "nbformat_minor": 2
}
