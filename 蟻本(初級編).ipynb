{
 "cells": [
  {
   "cell_type": "code",
   "execution_count": 83,
   "metadata": {
    "scrolled": true
   },
   "outputs": [
    {
     "name": "stdout",
     "output_type": "stream",
     "text": [
      "125\n",
      "176\n"
     ]
    }
   ],
   "source": [
    "#ARC061C\n",
    "s = input()\n",
    "ans = 0\n",
    "\n",
    "for i in range(2**(len(s)-1)):\n",
    "    a = \"\"\n",
    "    for j in range(len(s)):\n",
    "        a += s[j]\n",
    "        if i & (1 << j):\n",
    "            a += \"+\"\n",
    "    ans += eval(a)\n",
    "    \n",
    "print(ans)"
   ]
  },
  {
   "cell_type": "code",
   "execution_count": 82,
   "metadata": {},
   "outputs": [
    {
     "name": "stdout",
     "output_type": "stream",
     "text": [
      "1 3\n",
      "s#g\n",
      "No\n"
     ]
    }
   ],
   "source": [
    "#AtCoder Typical Contest 001\n",
    "import queue\n",
    "\n",
    "h,w = list(map(int,input().split()))\n",
    "c = [[0]*w for i in range(h)]\n",
    "for i in range(h):\n",
    "    c[i] = list(input()) #空白はないので\n",
    "\n",
    "flag = [[True]*w for i in range(h)]\n",
    "for i in range(h):\n",
    "    for j in range(w):\n",
    "        if c[i][j] == \"s\":\n",
    "            h_s = i\n",
    "            w_s = j\n",
    "            flag[h_s][w_s] = False\n",
    "        if c[i][j] == '#':\n",
    "            flag[i][j] = False\n",
    "\n",
    "q = queue.Queue()\n",
    "ans = False\n",
    "q.put([h_s,w_s])\n",
    "while not q.empty():\n",
    "    t = q.get()\n",
    "    if c[t[0]][t[1]] == 'g':\n",
    "        ans = True\n",
    "        break\n",
    "    else:\n",
    "        if t[0] != 0 and flag[t[0]-1][t[1]]:\n",
    "            q.put([t[0]-1,t[1]])\n",
    "            flag[t[0]-1][t[1]] = False\n",
    "        if t[0] != h-1 and flag[t[0]+1][t[1]]:\n",
    "            q.put([t[0]+1,t[1]])\n",
    "            flag[t[0]+1][t[1]] = False\n",
    "        if t[1] != 0 and flag[t[0]][t[1]-1]:\n",
    "            q.put([t[0],t[1]-1])\n",
    "            flag[t[0]][t[1]-1] = False\n",
    "        if t[1] != w-1 and flag[t[0]][t[1]+1]:\n",
    "            q.put([t[0],t[1]+1])\n",
    "            flag[t[0]][t[1]+1] = False\n",
    "print('Yes') if ans else print('No')"
   ]
  },
  {
   "cell_type": "code",
   "execution_count": 1,
   "metadata": {},
   "outputs": [
    {
     "name": "stdout",
     "output_type": "stream",
     "text": [
      "4 5\n",
      "2 2\n",
      "3 4\n",
      "#####\n",
      "#.#..\n",
      "#....\n",
      "###.#\n",
      "3\n"
     ]
    }
   ],
   "source": [
    "#ABC007C\n",
    "import queue\n",
    "\n",
    "R,C = list(map(int,input().split()))\n",
    "sx,sy = list(map(int,input().split()))\n",
    "gx,gy = list(map(int,input().split()))\n",
    "c = [[0]*C for i in range(R)]\n",
    "for i in range(R):\n",
    "    c[i] = list(input())\n",
    "\n",
    "visited = [[False]*C for i in range(R)]\n",
    "d = [[0]*C for i in range(R)]\n",
    "q = queue.Queue()\n",
    "q.put([sx-1,sy-1])\n",
    "dxy = [[-1,0],[1,0],[0,-1],[0,1]]\n",
    "while not q.empty():\n",
    "    now = q.get()\n",
    "    for dxy_ in dxy:\n",
    "        new = [0]*2\n",
    "        new = [now[0]+dxy_[0],now[1]+dxy_[1]]\n",
    "        if now[0]==0 or now[0]==R-1 or now[1]==0 or now[1]==C-1:\n",
    "            continue\n",
    "        elif c[new[0]][new[1]] == '#' or visited[new[0]][new[1]]:\n",
    "            continue\n",
    "        else:\n",
    "            visited[new[0]][new[1]] = True\n",
    "            q.put([new[0],new[1]])\n",
    "            d[new[0]][new[1]] = d[now[0]][now[1]] + 1\n",
    "        if new[0] == gx-1 and new[1] == gy-1:\n",
    "            print(d[new[0]][new[1]])\n",
    "            exit()"
   ]
  },
  {
   "cell_type": "code",
   "execution_count": 18,
   "metadata": {},
   "outputs": [
    {
     "name": "stdout",
     "output_type": "stream",
     "text": [
      "???bbbaaa\n",
      "ab\n",
      "aaabbbaaa\n"
     ]
    }
   ],
   "source": [
    "#ABC076C\n",
    "s = input()\n",
    "t = input()\n",
    "\n",
    "i_ = -1\n",
    "if len(s) < len(t):\n",
    "    print('UNRESTORABLE')\n",
    "    exit()\n",
    "for i in range(len(s)-len(t)+1):\n",
    "    cnt = 0\n",
    "    for j in range(len(t)):\n",
    "        if s[i+j]==t[j] or s[i+j]=='?':\n",
    "            cnt += 1\n",
    "    if cnt == len(t):\n",
    "        i_ = i\n",
    "if i_ == -1:\n",
    "    print('UNRESTORABLE')\n",
    "else:\n",
    "    s = s[:i_]+t+s[i_+len(t):]\n",
    "    print(s.replace('?','a'))"
   ]
  },
  {
   "cell_type": "code",
   "execution_count": 35,
   "metadata": {},
   "outputs": [
    {
     "name": "stdout",
     "output_type": "stream",
     "text": [
      "6\n",
      "30 10 60 10 60 50\n",
      "40\n"
     ]
    }
   ],
   "source": [
    "#DPまとめコンテストA\n",
    "import sys\n",
    "sys.setrecursionlimit(100000) #再帰が深すぎた？\n",
    "\n",
    "n = int(input())\n",
    "h = list(map(int,input().split()))\n",
    "dp_ = [-1]*n\n",
    "\n",
    "def dp(i):\n",
    "    if dp_[i]!=-1:\n",
    "        return dp_[i]\n",
    "    if i == 0:\n",
    "        dp_[i] = 0\n",
    "    elif i == 1:\n",
    "        dp_[i] = abs(h[1]-h[0])\n",
    "    else:\n",
    "        dp_[i] = min(dp(i-2)+abs(h[i]-h[i-2]),dp(i-1)+abs(h[i]-h[i-1]))\n",
    "    return dp_[i]\n",
    "\n",
    "print(dp(n-1))"
   ]
  },
  {
   "cell_type": "code",
   "execution_count": null,
   "metadata": {},
   "outputs": [],
   "source": []
  }
 ],
 "metadata": {
  "kernelspec": {
   "display_name": "Python 3",
   "language": "python",
   "name": "python3"
  },
  "language_info": {
   "codemirror_mode": {
    "name": "ipython",
    "version": 3
   },
   "file_extension": ".py",
   "mimetype": "text/x-python",
   "name": "python",
   "nbconvert_exporter": "python",
   "pygments_lexer": "ipython3",
   "version": "3.7.0"
  }
 },
 "nbformat": 4,
 "nbformat_minor": 2
}
