{
 "cells": [
  {
   "cell_type": "code",
   "execution_count": 3,
   "metadata": {},
   "outputs": [
    {
     "name": "stdout",
     "output_type": "stream",
     "text": [
      "20 30\n",
      "0\n"
     ]
    }
   ],
   "source": [
    "a,b = list(map(int,input().split()))\n",
    "print(max(0,a-2*b))"
   ]
  },
  {
   "cell_type": "code",
   "execution_count": 5,
   "metadata": {},
   "outputs": [
    {
     "name": "stdout",
     "output_type": "stream",
     "text": [
      "7\n",
      "5 0 7 8 3 3 2\n",
      "312\n"
     ]
    }
   ],
   "source": [
    "n = int(input())\n",
    "d = list(map(int,input().split()))\n",
    "ans = 0\n",
    "for i in range(n):\n",
    "    for j in range(i):\n",
    "        ans += d[i]*d[j]\n",
    "print(ans)"
   ]
  },
  {
   "cell_type": "code",
   "execution_count": 10,
   "metadata": {},
   "outputs": [
    {
     "name": "stdout",
     "output_type": "stream",
     "text": [
      "20\n",
      "xxzaffeeeeddfkkkkllq\n",
      "10\n"
     ]
    }
   ],
   "source": [
    "n = int(input())\n",
    "s = input()\n",
    "ans = 1\n",
    "for i in range(n-1):\n",
    "    if s[i]!=s[i+1]:\n",
    "        ans+=1\n",
    "print(ans)"
   ]
  },
  {
   "cell_type": "code",
   "execution_count": 14,
   "metadata": {},
   "outputs": [
    {
     "name": "stdout",
     "output_type": "stream",
     "text": [
      "7\n",
      "218 786 704 233 645 728 389\n",
      "23\n"
     ]
    }
   ],
   "source": [
    "n = int(input())\n",
    "l = list(map(int,input().split()))\n",
    "ans = 0\n",
    "l.sort()\n",
    "\n",
    "def bisec(i,k): #ギリギリokなj<=j_を探す\n",
    "    ci = i\n",
    "    ck = k\n",
    "    i+=1\n",
    "    k-=1\n",
    "    j = (i+k)//2\n",
    "    while k-i>1:\n",
    "        if l[ci]+l[j]>l[ck]:\n",
    "            k = j\n",
    "            j = (i+k)//2\n",
    "        else:\n",
    "            i = j+1\n",
    "            j = (i+k)//2\n",
    "    if l[ci]+l[i]>l[ck]:\n",
    "        return i\n",
    "    elif l[ci]+l[i+1]>l[ck]:\n",
    "        return i+1\n",
    "    else:\n",
    "        return -1\n",
    "\n",
    "for i in range(n):\n",
    "#     for j in range(i+1,n):  i<j<kでl[i]+l[j]>l[k]を満たすものを二分探索\n",
    "    for k in range(i+2,n):\n",
    "        j = bisec(i,k)\n",
    "        if j>=0:\n",
    "            ans += k-j\n",
    "print(ans)"
   ]
  },
  {
   "cell_type": "code",
   "execution_count": null,
   "metadata": {},
   "outputs": [],
   "source": []
  }
 ],
 "metadata": {
  "kernelspec": {
   "display_name": "Python 3",
   "language": "python",
   "name": "python3"
  },
  "language_info": {
   "codemirror_mode": {
    "name": "ipython",
    "version": 3
   },
   "file_extension": ".py",
   "mimetype": "text/x-python",
   "name": "python",
   "nbconvert_exporter": "python",
   "pygments_lexer": "ipython3",
   "version": "3.7.0"
  }
 },
 "nbformat": 4,
 "nbformat_minor": 2
}
