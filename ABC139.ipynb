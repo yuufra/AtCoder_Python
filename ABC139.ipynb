{
 "cells": [
  {
   "cell_type": "code",
   "execution_count": 3,
   "metadata": {},
   "outputs": [
    {
     "name": "stdout",
     "output_type": "stream",
     "text": [
      "rrr\n",
      "sss\n",
      "0\n"
     ]
    }
   ],
   "source": [
    "s = input()\n",
    "t = input()\n",
    "\n",
    "print(int(s[0]==t[0])+int(s[1]==t[1])+int(s[2]==t[2]))"
   ]
  },
  {
   "cell_type": "code",
   "execution_count": 6,
   "metadata": {},
   "outputs": [
    {
     "name": "stdout",
     "output_type": "stream",
     "text": [
      "8 8\n",
      "1\n"
     ]
    }
   ],
   "source": [
    "a,b = list(map(int,input().split()))\n",
    "\n",
    "print(((b-1)+(a-1)-1)//(a-1))"
   ]
  },
  {
   "cell_type": "code",
   "execution_count": 11,
   "metadata": {},
   "outputs": [
    {
     "name": "stdout",
     "output_type": "stream",
     "text": [
      "4\n",
      "1 2 3 4\n",
      "0\n"
     ]
    }
   ],
   "source": [
    "n = int(input())\n",
    "h = list(map(int,input().split()))\n",
    "\n",
    "ans = 0\n",
    "tmp = 0\n",
    "for i in range(n-1):\n",
    "    if h[i] >= h[i+1]:\n",
    "        tmp += 1\n",
    "    else:\n",
    "        tmp = 0\n",
    "    if ans < tmp:\n",
    "        ans = tmp\n",
    "print(ans)"
   ]
  },
  {
   "cell_type": "code",
   "execution_count": 6,
   "metadata": {},
   "outputs": [
    {
     "name": "stdout",
     "output_type": "stream",
     "text": [
      "999999999\n",
      "499999998500000001\n"
     ]
    }
   ],
   "source": [
    "n = int(input())\n",
    "print(n*(n-1)//2)  #/だと64bitじゃなくなって精度が悪くなる！"
   ]
  },
  {
   "cell_type": "code",
   "execution_count": null,
   "metadata": {},
   "outputs": [],
   "source": [
    "2,3,1 1,3,2  2,3,4,1"
   ]
  }
 ],
 "metadata": {
  "kernelspec": {
   "display_name": "Python 3",
   "language": "python",
   "name": "python3"
  },
  "language_info": {
   "codemirror_mode": {
    "name": "ipython",
    "version": 3
   },
   "file_extension": ".py",
   "mimetype": "text/x-python",
   "name": "python",
   "nbconvert_exporter": "python",
   "pygments_lexer": "ipython3",
   "version": "3.7.0"
  }
 },
 "nbformat": 4,
 "nbformat_minor": 2
}
