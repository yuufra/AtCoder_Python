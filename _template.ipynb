{
 "cells": [
  {
   "cell_type": "code",
   "execution_count": null,
   "metadata": {},
   "outputs": [],
   "source": [
    "#入出力、初期化\n",
    "a = input()\n",
    "a = int(input())\n",
    "a = list(map(int,input().split()))\n",
    "\n",
    "a = [0]*n\n",
    "a = [[0 for i in range(n)] for j in range(m)]"
   ]
  },
  {
   "cell_type": "code",
   "execution_count": null,
   "metadata": {},
   "outputs": [],
   "source": [
    "#set\n",
    "a = set()\n",
    "a.add(i)"
   ]
  },
  {
   "cell_type": "code",
   "execution_count": null,
   "metadata": {},
   "outputs": [],
   "source": [
    "#bit全探索\n",
    "for i in range(2**n):\n",
    "\n",
    "    for j in range(n):\n",
    "        if (i>>j)&1:\n",
    "            #j番目のbitを立てる"
   ]
  },
  {
   "cell_type": "code",
   "execution_count": null,
   "metadata": {},
   "outputs": [],
   "source": [
    "#nCkのmod\n",
    "#https://drken1215.hatenablog.com/entry/2018/06/08/210000\n",
    "fac = [1]*n\n",
    "finv = [1]*n\n",
    "inv = [1]*n\n",
    "MOD = 998244353\n",
    "for i in range(2,n):\n",
    "    fac[i] = fac[i-1]*i%MOD\n",
    "    inv[i] = MOD-inv[MOD%i]*(MOD//i)%MOD\n",
    "    finv[i] = finv[i-1]*inv[i]%MOD\n",
    "def comb(n,k):\n",
    "    return fac[n]*(finv[k]*finv[n-k]%MOD)%MOD"
   ]
  },
  {
   "cell_type": "code",
   "execution_count": null,
   "metadata": {},
   "outputs": [],
   "source": [
    "#permutation 順列全列挙\n",
    "import itertools\n",
    "for i in itertools.permutations(a):\n",
    "    #タプルiを返す"
   ]
  },
  {
   "cell_type": "code",
   "execution_count": null,
   "metadata": {},
   "outputs": [],
   "source": []
  },
  {
   "cell_type": "code",
   "execution_count": null,
   "metadata": {},
   "outputs": [],
   "source": []
  }
 ],
 "metadata": {
  "kernelspec": {
   "display_name": "Python 3",
   "language": "python",
   "name": "python3"
  },
  "language_info": {
   "codemirror_mode": {
    "name": "ipython",
    "version": 3
   },
   "file_extension": ".py",
   "mimetype": "text/x-python",
   "name": "python",
   "nbconvert_exporter": "python",
   "pygments_lexer": "ipython3",
   "version": "3.7.0"
  }
 },
 "nbformat": 4,
 "nbformat_minor": 2
}
