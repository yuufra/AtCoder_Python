{
 "cells": [
  {
   "cell_type": "code",
   "execution_count": 1,
   "metadata": {},
   "outputs": [
    {
     "name": "stdout",
     "output_type": "stream",
     "text": [
      "2\n",
      "4\n"
     ]
    }
   ],
   "source": [
    "r=int(input())\n",
    "print(r*r)"
   ]
  },
  {
   "cell_type": "code",
   "execution_count": 6,
   "metadata": {},
   "outputs": [
    {
     "name": "stdout",
     "output_type": "stream",
     "text": [
      "1\n",
      "z\n",
      "No\n"
     ]
    }
   ],
   "source": [
    "n=int(input())\n",
    "s=input()\n",
    "if(n%2!=0):\n",
    "    print('No')\n",
    "else:\n",
    "    print('Yes' if s[0:n//2]==s[n//2:n] else 'No')"
   ]
  },
  {
   "cell_type": "code",
   "execution_count": 19,
   "metadata": {},
   "outputs": [
    {
     "name": "stdout",
     "output_type": "stream",
     "text": [
      "2\n",
      "0 1\n",
      "1 0\n",
      "1.4142135623730951\n"
     ]
    }
   ],
   "source": [
    "# 4/6 n=3\n",
    "# 12/24 n=4\n",
    "# (n-1)!*2\n",
    "\n",
    "def frac(n):\n",
    "    if n==1:\n",
    "        return 1\n",
    "    else:\n",
    "        return n*frac(n-1)\n",
    "\n",
    "n=int(input())\n",
    "x=[0]*n\n",
    "y=[0]*n\n",
    "for i in range(n):\n",
    "    x[i],y[i]=list(map(int,input().split()))\n",
    "ans=0\n",
    "for i in range(n):\n",
    "    for j in range(i+1,n):\n",
    "        ans+=((x[i]-x[j])**2+(y[i]-y[j])**2)**0.5\n",
    "print(ans*frac(n-1)*2/frac(n))\n",
    "\n",
    "#ルートn!*(n-1)\n",
    "# 1234 1243 1324 1342 1423 1432\n",
    "# 2134 2143 2314 2341 2413 2431\n",
    "# 3124 3142 3214 3241 3412 3421\n",
    "# 4123 4132 4213 4231 4312 4321 12"
   ]
  },
  {
   "cell_type": "code",
   "execution_count": 31,
   "metadata": {},
   "outputs": [
    {
     "name": "stdout",
     "output_type": "stream",
     "text": [
      "999999 999999\n",
      "151840682\n"
     ]
    }
   ],
   "source": [
    "#http://drken1215.hatenablog.com/entry/2018/06/08/210000\n",
    "\n",
    "# n+2m=i\n",
    "# 2n+m=j\n",
    "# (4n+2m=2j)\n",
    "# n=(2j-i)/3\n",
    "# m=(2i-j)/3\n",
    "# n+m C n (n+m)!/n!/m!\n",
    "\n",
    "MOD = 10**9+7\n",
    "MAX = (10**6)*2+5\n",
    "fac = [0]*MAX\n",
    "inv = [0]*MAX   #1/a\n",
    "finv = [0]*MAX   #1/a!\n",
    "def COMinit():\n",
    "    fac[0]=1\n",
    "    fac[1]=1\n",
    "    finv[0]=1\n",
    "    finv[1]=1\n",
    "    inv[1]=1\n",
    "    for i in range(2,MAX):\n",
    "        fac[i] = fac[i-1]*i%MOD\n",
    "        inv[i] = MOD - inv[MOD%i]*(MOD//i)%MOD\n",
    "        finv[i] = finv[i-1]*inv[i]%MOD\n",
    "def COM(n,k):\n",
    "    return fac[n]*(finv[k]*finv[n-k]%MOD)%MOD\n",
    "\n",
    "x,y=list(map(int,input().split()))\n",
    "if (2*y-x)%3!=0 or (2*x-y)%3!=0:\n",
    "    print(0)\n",
    "else:\n",
    "    n=(2*y-x)//3\n",
    "    m=(2*x-y)//3\n",
    "    if n<0 or m<0:\n",
    "        print(0)\n",
    "    else:\n",
    "        COMinit()\n",
    "        print(COM(n+m,n))"
   ]
  },
  {
   "cell_type": "code",
   "execution_count": 40,
   "metadata": {},
   "outputs": [
    {
     "ename": "MemoryError",
     "evalue": "",
     "output_type": "error",
     "traceback": [
      "\u001b[1;31m---------------------------------------------------------------------------\u001b[0m",
      "\u001b[1;31mMemoryError\u001b[0m                               Traceback (most recent call last)",
      "\u001b[1;32m<ipython-input-40-91e0fe616252>\u001b[0m in \u001b[0;36m<module>\u001b[1;34m()\u001b[0m\n\u001b[0;32m      1\u001b[0m \u001b[0ml\u001b[0m \u001b[1;33m=\u001b[0m \u001b[1;33m[\u001b[0m\u001b[1;33m]\u001b[0m\u001b[1;33m\u001b[0m\u001b[0m\n\u001b[0;32m      2\u001b[0m \u001b[1;32mwhile\u001b[0m \u001b[1;36m1\u001b[0m\u001b[1;33m:\u001b[0m\u001b[1;33m\u001b[0m\u001b[0m\n\u001b[1;32m----> 3\u001b[1;33m     \u001b[0ml\u001b[0m\u001b[1;33m.\u001b[0m\u001b[0mappend\u001b[0m\u001b[1;33m(\u001b[0m\u001b[1;36m0\u001b[0m\u001b[1;33m)\u001b[0m\u001b[1;33m\u001b[0m\u001b[0m\n\u001b[0m",
      "\u001b[1;31mMemoryError\u001b[0m: "
     ]
    }
   ],
   "source": [
    "l = []\n",
    "while 1:\n",
    "    l.append(0)"
   ]
  },
  {
   "cell_type": "code",
   "execution_count": 41,
   "metadata": {},
   "outputs": [
    {
     "name": "stdout",
     "output_type": "stream",
     "text": [
      "193656457\n"
     ]
    }
   ],
   "source": [
    "print(len(l)) #l=193656457"
   ]
  },
  {
   "cell_type": "code",
   "execution_count": null,
   "metadata": {},
   "outputs": [],
   "source": []
  }
 ],
 "metadata": {
  "kernelspec": {
   "display_name": "Python 3",
   "language": "python",
   "name": "python3"
  },
  "language_info": {
   "codemirror_mode": {
    "name": "ipython",
    "version": 3
   },
   "file_extension": ".py",
   "mimetype": "text/x-python",
   "name": "python",
   "nbconvert_exporter": "python",
   "pygments_lexer": "ipython3",
   "version": "3.7.0"
  }
 },
 "nbformat": 4,
 "nbformat_minor": 2
}
