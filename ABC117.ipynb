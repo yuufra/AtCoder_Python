{
 "cells": [
  {
   "cell_type": "code",
   "execution_count": 2,
   "metadata": {},
   "outputs": [
    {
     "name": "stdout",
     "output_type": "stream",
     "text": [
      "3 2\n",
      "1.5\n"
     ]
    }
   ],
   "source": [
    "t = list(map(int,input().split()))\n",
    "print(t[0]/t[1])"
   ]
  },
  {
   "cell_type": "code",
   "execution_count": 1,
   "metadata": {},
   "outputs": [
    {
     "name": "stdout",
     "output_type": "stream",
     "text": [
      "3\n",
      "1 2 3\n",
      "No\n"
     ]
    }
   ],
   "source": [
    "def judge(n,l):\n",
    "    for i in range(n):\n",
    "        s = 0\n",
    "        for j in range(n):\n",
    "            if(j!=i):\n",
    "                s += l[j]\n",
    "        if(s<=l[i]):\n",
    "            print('No')\n",
    "            return\n",
    "    print('Yes')\n",
    "    return\n",
    "\n",
    "n = int(input())\n",
    "l = list(map(int,input().split()))\n",
    "judge(n,l)"
   ]
  },
  {
   "cell_type": "code",
   "execution_count": null,
   "metadata": {},
   "outputs": [],
   "source": []
  },
  {
   "cell_type": "code",
   "execution_count": 7,
   "metadata": {},
   "outputs": [
    {
     "name": "stdout",
     "output_type": "stream",
     "text": [
      "3 7\n",
      "1 6 3\n",
      "10\n",
      "9\n",
      "8\n",
      "7\n",
      "14\n",
      "13\n",
      "12\n",
      "11\n",
      "14\n"
     ]
    }
   ],
   "source": [
    "def f(n,a):\n",
    "    t = 0\n",
    "    for k in range(n[1]+1):\n",
    "        s = 0\n",
    "        for i in range(n[0]):\n",
    "            s += k ^ a[i]\n",
    "        if(s>t):\n",
    "            t = s\n",
    "    return t\n",
    "\n",
    "n = list(map(int,input().split()))\n",
    "a = list(map(int,input().split()))\n",
    "print(f(n,a))"
   ]
  },
  {
   "cell_type": "code",
   "execution_count": null,
   "metadata": {},
   "outputs": [],
   "source": []
  }
 ],
 "metadata": {
  "kernelspec": {
   "display_name": "Python 3",
   "language": "python",
   "name": "python3"
  },
  "language_info": {
   "codemirror_mode": {
    "name": "ipython",
    "version": 3
   },
   "file_extension": ".py",
   "mimetype": "text/x-python",
   "name": "python",
   "nbconvert_exporter": "python",
   "pygments_lexer": "ipython3",
   "version": "3.7.0"
  }
 },
 "nbformat": 4,
 "nbformat_minor": 2
}
