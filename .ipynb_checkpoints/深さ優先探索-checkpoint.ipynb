{
 "cells": [
  {
   "cell_type": "code",
   "execution_count": 59,
   "metadata": {},
   "outputs": [
    {
     "name": "stdout",
     "output_type": "stream",
     "text": [
      "10 10\n",
      "s.........\n",
      "#########.\n",
      "#.......#.\n",
      "#..####.#.\n",
      "##....#.#.\n",
      "#####.#.#.\n",
      "g.#.#.#.#.\n",
      "#.#.#.#.#.\n",
      "#.#.#.#.#.\n",
      "#.....#...\n",
      "Yes\n"
     ]
    }
   ],
   "source": [
    "#AtCoder Typical Contest 001\n",
    "import sys\n",
    "sys.setrecursionlimit(500000)\n",
    "\n",
    "h,w = list(map(int,input().split()))\n",
    "c = ['']*h\n",
    "seen = [[False for i in range(w)]for j in range(h)] #二次元リストの初期化方法に注意\n",
    "for i in range(h):    #初期化\n",
    "    c[i] = list(input())\n",
    "    \n",
    "for i in range(h):    #変数の調整\n",
    "    for j in range(w):\n",
    "        if c[i][j]=='s':\n",
    "            s = (i,j)\n",
    "        elif c[i][j]=='g':\n",
    "            g = (i,j)\n",
    "        elif c[i][j]=='#':\n",
    "            seen[i][j] = True\n",
    "\n",
    "mov = [[1,0],[0,-1],[-1,0],[0,1]]\n",
    "def dfs(i,j):    #色を塗って次の場所に進む関数\n",
    "    seen[i][j] = True\n",
    "    if g == (i,j):\n",
    "        print('Yes')\n",
    "        sys.exit()\n",
    "    for m in mov:\n",
    "        if 0<=i+m[0]<h and 0<=j+m[1]<w and not(seen[i+m[0]][j+m[1]]):\n",
    "            dfs(i+m[0],j+m[1])  \n",
    "\n",
    "ans = dfs(s[0],s[1])\n",
    "print('No')"
   ]
  },
  {
   "cell_type": "code",
   "execution_count": null,
   "metadata": {},
   "outputs": [],
   "source": []
  }
 ],
 "metadata": {
  "kernelspec": {
   "display_name": "Python 3",
   "language": "python",
   "name": "python3"
  },
  "language_info": {
   "codemirror_mode": {
    "name": "ipython",
    "version": 3
   },
   "file_extension": ".py",
   "mimetype": "text/x-python",
   "name": "python",
   "nbconvert_exporter": "python",
   "pygments_lexer": "ipython3",
   "version": "3.7.0"
  }
 },
 "nbformat": 4,
 "nbformat_minor": 2
}
