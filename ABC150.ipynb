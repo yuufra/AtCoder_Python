{
 "cells": [
  {
   "cell_type": "code",
   "execution_count": 2,
   "metadata": {},
   "outputs": [
    {
     "name": "stdout",
     "output_type": "stream",
     "text": [
      "4 2000\n",
      "Yes\n"
     ]
    }
   ],
   "source": [
    "k,x = list(map(int,input().split()))\n",
    "print('Yes' if 500*k>=x else 'No')"
   ]
  },
  {
   "cell_type": "code",
   "execution_count": 5,
   "metadata": {},
   "outputs": [
    {
     "name": "stdout",
     "output_type": "stream",
     "text": [
      "33\n",
      "ABCCABCBABCCABACBCBBABCBCBCBCABCB\n",
      "5\n"
     ]
    }
   ],
   "source": [
    "n = int(input())\n",
    "s = input()\n",
    "cnt = 0\n",
    "for i in range(n-2):\n",
    "    if s[i]=='A' and s[i+1]=='B' and s[i+2]=='C':\n",
    "        cnt+=1\n",
    "print(cnt)"
   ]
  },
  {
   "cell_type": "code",
   "execution_count": 11,
   "metadata": {},
   "outputs": [
    {
     "name": "stdout",
     "output_type": "stream",
     "text": [
      "8\n",
      "7 3 5 4 2 1 6 8\n",
      "3 8 2 5 4 6 7 1\n",
      "17517\n"
     ]
    }
   ],
   "source": [
    "import itertools\n",
    "import copy\n",
    "n = int(input())\n",
    "p = list(map(int,input().split()))\n",
    "q = list(map(int,input().split()))\n",
    "l = copy.deepcopy(p)\n",
    "l.sort()\n",
    "cnt = 0\n",
    "p_c = 0\n",
    "q_c = 0\n",
    "p = tuple(p)\n",
    "q = tuple(q)\n",
    "for i in itertools.permutations(l):\n",
    "    if i==p:\n",
    "        p_c = cnt\n",
    "    if i==q:\n",
    "        q_c = cnt\n",
    "    cnt+=1\n",
    "print(abs(p_c-q_c))"
   ]
  },
  {
   "cell_type": "code",
   "execution_count": 7,
   "metadata": {},
   "outputs": [
    {
     "name": "stdout",
     "output_type": "stream",
     "text": [
      "2 1000\n",
      "12 20\n",
      "30\n",
      "90\n",
      "150\n",
      "210\n",
      "270\n",
      "330\n",
      "390\n",
      "450\n",
      "510\n",
      "570\n",
      "630\n",
      "690\n",
      "750\n",
      "810\n",
      "870\n",
      "930\n",
      "990\n",
      "17\n"
     ]
    }
   ],
   "source": [
    "import math\n",
    "n,m = list(map(int,input().split()))\n",
    "a = list(map(int,input().split()))\n",
    "cnt = 0\n",
    "lcm = 1\n",
    "for i in range(n):\n",
    "    a[i]//=2\n",
    "    lcm = lcm*a[i]//math.gcd(lcm,a[i])\n",
    "j=1\n",
    "while lcm*j<=m:\n",
    "    flag = True\n",
    "    for i in range(n):\n",
    "        if lcm*j%(a[i]*2)==0:\n",
    "            flag = False\n",
    "            break\n",
    "    if flag:\n",
    "        cnt+=1\n",
    "        print(lcm*j)\n",
    "    j+=1\n",
    "print(cnt)"
   ]
  },
  {
   "cell_type": "code",
   "execution_count": 22,
   "metadata": {},
   "outputs": [
    {
     "name": "stdout",
     "output_type": "stream",
     "text": [
      "5 1000000000\n",
      "6 6 2 6 2\n",
      "166666667\n"
     ]
    },
    {
     "name": "stderr",
     "output_type": "stream",
     "text": [
      "C:\\Users\\tos-h\\Anaconda3\\lib\\site-packages\\ipykernel_launcher.py:7: DeprecationWarning: fractions.gcd() is deprecated. Use math.gcd() instead.\n",
      "  import sys\n"
     ]
    }
   ],
   "source": [
    "import fractions #math.gcdは非対応なので解答にはfractions.gcdを使う\n",
    "n,m = list(map(int,input().split()))\n",
    "a = list(map(int,input().split()))\n",
    "lcm = 1\n",
    "for i in range(n):\n",
    "    a[i]//=2\n",
    "    lcm = lcm*a[i]//fractions.gcd(lcm,a[i])\n",
    "flag = False\n",
    "loopf = True\n",
    "while loopf:\n",
    "    tmp = a[0]%2\n",
    "    for i in range(1,n):\n",
    "        if a[i]%2!=tmp:\n",
    "            flag = True\n",
    "            loopf = False\n",
    "            break\n",
    "    if tmp==1 and loopf:\n",
    "        loopf = False\n",
    "    if tmp==0:\n",
    "        for i in range(n):\n",
    "            a[i]//=2\n",
    "        \n",
    "if flag:\n",
    "    print(0)\n",
    "else:\n",
    "    tmp = m//lcm\n",
    "    print((tmp+1)//2)"
   ]
  },
  {
   "cell_type": "code",
   "execution_count": null,
   "metadata": {},
   "outputs": [],
   "source": []
  }
 ],
 "metadata": {
  "kernelspec": {
   "display_name": "Python 3",
   "language": "python",
   "name": "python3"
  },
  "language_info": {
   "codemirror_mode": {
    "name": "ipython",
    "version": 3
   },
   "file_extension": ".py",
   "mimetype": "text/x-python",
   "name": "python",
   "nbconvert_exporter": "python",
   "pygments_lexer": "ipython3",
   "version": "3.8.10"
  }
 },
 "nbformat": 4,
 "nbformat_minor": 2
}
