{
 "cells": [
  {
   "cell_type": "code",
   "execution_count": 6,
   "metadata": {},
   "outputs": [
    {
     "name": "stdout",
     "output_type": "stream",
     "text": [
      "32 21\n",
      "58\n"
     ]
    }
   ],
   "source": [
    "s = list(map(int,input().split()))\n",
    "print((s[0]*3+s[1])//2)"
   ]
  },
  {
   "cell_type": "code",
   "execution_count": 13,
   "metadata": {},
   "outputs": [
    {
     "name": "stdout",
     "output_type": "stream",
     "text": [
      "6\n",
      "k 20\n",
      "asd 45\n",
      "askj 37\n",
      "d 3\n",
      "e2 3\n",
      "j 5\n"
     ]
    }
   ],
   "source": [
    "n = int(input())\n",
    "s = [0]*n\n",
    "p = [0]*n\n",
    "for i in range(n):\n",
    "    s[i], p[i] = input().split()\n",
    "    p[i] = int(p[i])\n",
    "\n"
   ]
  },
  {
   "cell_type": "code",
   "execution_count": 15,
   "metadata": {},
   "outputs": [
    {
     "data": {
      "text/plain": [
       "1"
      ]
     },
     "execution_count": 15,
     "metadata": {},
     "output_type": "execute_result"
    }
   ],
   "source": [
    "n, m = map(int,input().split())\n",
    "a = [[0]*n for i in range(m)]\n",
    "for i in range(n):\n",
    "    for j in range(m):\n",
    "        a[i][j] = \n"
   ]
  },
  {
   "cell_type": "code",
   "execution_count": null,
   "metadata": {},
   "outputs": [],
   "source": [
    "#ここから解答\n",
    "n = int(input())\n",
    "S = []\n",
    "for i in range(n):\n",
    "    a, b = input().split()        #まずは文字列として読み込む\n",
    "    S.append([a, -int(b), i + 1]) #int型に変更、ソート用に小さい順になるようにする何番目かわかるように変数を加える\n",
    "\n",
    "S.sort()\n",
    "\n",
    "for i in range(n):\n",
    "    print(S[i][2])"
   ]
  }
 ],
 "metadata": {
  "kernelspec": {
   "display_name": "Python 3",
   "language": "python",
   "name": "python3"
  },
  "language_info": {
   "codemirror_mode": {
    "name": "ipython",
    "version": 3
   },
   "file_extension": ".py",
   "mimetype": "text/x-python",
   "name": "python",
   "nbconvert_exporter": "python",
   "pygments_lexer": "ipython3",
   "version": "3.7.0"
  }
 },
 "nbformat": 4,
 "nbformat_minor": 2
}
