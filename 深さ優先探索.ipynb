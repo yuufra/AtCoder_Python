{
 "cells": [
  {
   "cell_type": "code",
   "execution_count": 59,
   "metadata": {},
   "outputs": [
    {
     "name": "stdout",
     "output_type": "stream",
     "text": [
      "10 10\n",
      "s.........\n",
      "#########.\n",
      "#.......#.\n",
      "#..####.#.\n",
      "##....#.#.\n",
      "#####.#.#.\n",
      "g.#.#.#.#.\n",
      "#.#.#.#.#.\n",
      "#.#.#.#.#.\n",
      "#.....#...\n",
      "Yes\n"
     ]
    }
   ],
   "source": [
    "#AtCoder Typical Contest 001\n",
    "import sys\n",
    "sys.setrecursionlimit(500000)\n",
    "\n",
    "h,w = list(map(int,input().split()))\n",
    "c = ['']*h\n",
    "seen = [[False for i in range(w)]for j in range(h)] #二次元リストの初期化方法に注意\n",
    "for i in range(h):    #初期化\n",
    "    c[i] = list(input())\n",
    "    \n",
    "for i in range(h):    #変数の調整\n",
    "    for j in range(w):\n",
    "        if c[i][j]=='s':\n",
    "            s = (i,j)\n",
    "        elif c[i][j]=='g':\n",
    "            g = (i,j)\n",
    "        elif c[i][j]=='#':\n",
    "            seen[i][j] = True\n",
    "\n",
    "mov = [[1,0],[0,-1],[-1,0],[0,1]]\n",
    "def dfs(i,j):    #色を塗って次の場所に進む関数\n",
    "    if not(0<=i<h and 0<=j<w) or seen[i][j]:\n",
    "        return\n",
    "    seen[i][j] = True\n",
    "    for m in mov:\n",
    "        dfs(i+m[0],j+m[1])\n",
    "\n",
    "dfs(s[0],s[1])\n",
    "print('Yes' if seen[g[0]][g[1]] else 'No')"
   ]
  },
  {
   "cell_type": "code",
   "execution_count": 74,
   "metadata": {},
   "outputs": [
    {
     "name": "stdout",
     "output_type": "stream",
     "text": [
      "3 3\n",
      "6\n"
     ]
    }
   ],
   "source": [
    "#桂馬飛び\n",
    "seen = [[False for i in range(9)] for j in range(9)]\n",
    "s,t = list(map(int,input().split()))\n",
    "\n",
    "mov = [[2,1],[2,-1],[-1,2]]\n",
    "def dfs(x,y):\n",
    "    if not(0<=x<9 and 0<=y<9) or seen[x][y]:\n",
    "        return\n",
    "    seen[x][y] = True\n",
    "    for m in mov:\n",
    "        dfs(x+m[0],y+m[1])\n",
    "\n",
    "dfs(s,t)\n",
    "num = 0\n",
    "for i in range(9):\n",
    "    for j in range(9):\n",
    "        if seen[i][j]:\n",
    "            num+=1\n",
    "print(num)"
   ]
  },
  {
   "cell_type": "code",
   "execution_count": null,
   "metadata": {},
   "outputs": [],
   "source": []
  }
 ],
 "metadata": {
  "kernelspec": {
   "display_name": "Python 3",
   "language": "python",
   "name": "python3"
  },
  "language_info": {
   "codemirror_mode": {
    "name": "ipython",
    "version": 3
   },
   "file_extension": ".py",
   "mimetype": "text/x-python",
   "name": "python",
   "nbconvert_exporter": "python",
   "pygments_lexer": "ipython3",
   "version": "3.7.0"
  }
 },
 "nbformat": 4,
 "nbformat_minor": 2
}
