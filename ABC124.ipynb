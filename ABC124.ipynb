{
 "cells": [
  {
   "cell_type": "code",
   "execution_count": 3,
   "metadata": {},
   "outputs": [
    {
     "name": "stdout",
     "output_type": "stream",
     "text": [
      "6 6\n",
      "12\n"
     ]
    }
   ],
   "source": [
    "i = list(map(int,input().split()))\n",
    "c = 0\n",
    "if i[0] != i[1]:\n",
    "    if i[0] > i[1]:\n",
    "        c = 2 * i[0] - 1\n",
    "    else:\n",
    "        c = 2 * i[1] - 1\n",
    "else:\n",
    "    c = 2 * i[0]\n",
    "print(c)"
   ]
  },
  {
   "cell_type": "code",
   "execution_count": 3,
   "metadata": {},
   "outputs": [
    {
     "name": "stdout",
     "output_type": "stream",
     "text": [
      "5\n",
      "9 5 6 8 4\n",
      "1\n"
     ]
    }
   ],
   "source": [
    "n = int(input())\n",
    "h = list(map(int,input().split()))\n",
    "s = 0\n",
    "for i in range(n):\n",
    "    k = 0\n",
    "    for j in range(i):\n",
    "        if h[j] <= h[i]:\n",
    "            k = k + 1\n",
    "    if k == i:\n",
    "        s = s + 1           \n",
    "print(s)"
   ]
  },
  {
   "cell_type": "code",
   "execution_count": 7,
   "metadata": {},
   "outputs": [
    {
     "name": "stdout",
     "output_type": "stream",
     "text": [
      "0\n",
      "0\n"
     ]
    }
   ],
   "source": [
    "s_str = input()\n",
    "s = list(map(int,s_str))\n",
    "a = 0\n",
    "for i in range(len(s)):\n",
    "    if s[i] == i % 2:\n",
    "        a = a + 1\n",
    "if a < len(s) - a:\n",
    "    print(a)\n",
    "else:\n",
    "    print(len(s)-a)"
   ]
  },
  {
   "cell_type": "code",
   "execution_count": 48,
   "metadata": {},
   "outputs": [
    {
     "name": "stdout",
     "output_type": "stream",
     "text": [
      "8 1\n",
      "10001100\n",
      "6\n"
     ]
    }
   ],
   "source": [
    "l = list(map(int,input().split()))\n",
    "k = l[1]\n",
    "s_str = input()\n",
    "s = list(map(int,s_str))\n",
    "t = []\n",
    "u = 1\n",
    "ans = 0\n",
    "for i in range(len(s)):\n",
    "    if i == 0:\n",
    "        if s[0] == 1:\n",
    "            t.append(0)\n",
    "        else:\n",
    "            u = 1\n",
    "    elif i == len(s)-1:\n",
    "        if s[i] != s[i-1]:\n",
    "            t.append(u)\n",
    "            u = 1\n",
    "        else:\n",
    "            u = u + 1 \n",
    "        t.append(u)\n",
    "    else:\n",
    "        if s[i] != s[i-1]:\n",
    "            t.append(u)\n",
    "            u = 1\n",
    "        else:\n",
    "            u = u + 1\n",
    "if s[len(s)-1] == 1:\n",
    "    for i in range(0,len(t),2):\n",
    "        temp_sum = 0\n",
    "        if i + 2 * k <= len(t):\n",
    "            if i == 0:\n",
    "                for j in range(0,i+2*k):\n",
    "                    temp_sum += t[j]\n",
    "            else:\n",
    "                for j in range(i-1,i+2*k):\n",
    "                    temp_sum += t[j]\n",
    "        if ans < temp_sum:\n",
    "            ans = temp_sum\n",
    "else:\n",
    "    for i in range(0,len(t),2):\n",
    "        temp_sum = 0\n",
    "        if i + 2 * k <= len(t):\n",
    "            if i == 0:\n",
    "                for j in range(0,i+2*k):\n",
    "                    temp_sum += t[j]\n",
    "            else:\n",
    "                for j in range(i-1,i+2*k):\n",
    "                    temp_sum += t[j]\n",
    "        elif i + 2 * k == len(t) + 1:\n",
    "            if i == 0:\n",
    "                for j in range(0,i+2*k-1):\n",
    "                    temp_sum += t[j]\n",
    "            else:\n",
    "                for j in range(i-1,i+2*k-1):\n",
    "                    temp_sum += t[j]\n",
    "        if ans < temp_sum:\n",
    "            ans = temp_sum\n",
    "if len(t) == 2:\n",
    "    if t[0] == 0:\n",
    "        ans = t[1]\n",
    "if len(t) == 1:\n",
    "    ans = t[0]\n",
    "if len(s) == 1:\n",
    "    ans = 1\n",
    "\n",
    "print(ans)"
   ]
  },
  {
   "cell_type": "code",
   "execution_count": null,
   "metadata": {},
   "outputs": [],
   "source": []
  },
  {
   "cell_type": "code",
   "execution_count": null,
   "metadata": {},
   "outputs": [],
   "source": []
  }
 ],
 "metadata": {
  "kernelspec": {
   "display_name": "Python 3",
   "language": "python",
   "name": "python3"
  },
  "language_info": {
   "codemirror_mode": {
    "name": "ipython",
    "version": 3
   },
   "file_extension": ".py",
   "mimetype": "text/x-python",
   "name": "python",
   "nbconvert_exporter": "python",
   "pygments_lexer": "ipython3",
   "version": "3.7.0"
  }
 },
 "nbformat": 4,
 "nbformat_minor": 2
}
