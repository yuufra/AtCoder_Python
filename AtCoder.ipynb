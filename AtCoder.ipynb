{
 "cells": [
  {
   "cell_type": "code",
   "execution_count": 1,
   "metadata": {},
   "outputs": [
    {
     "name": "stdout",
     "output_type": "stream",
     "text": [
      "1\n",
      "2\n",
      "3\n",
      "あ\n"
     ]
    }
   ],
   "source": [
    "### memo ###\n",
    "\n",
    "# 入力データの数値化\n",
    "nums = list(map(int, input().split())) # \"1 2 3\"と入力 \n",
    "\n",
    "# 最初に入力回数が与えられて、そのあとデータが入力される、といったパターン\n",
    "N = int(input()) \n",
    "a = [input() for i in range(N)]"
   ]
  },
  {
   "cell_type": "code",
   "execution_count": 6,
   "metadata": {},
   "outputs": [
    {
     "name": "stdout",
     "output_type": "stream",
     "text": [
      "1\n",
      "2 3\n",
      "test\n",
      "6 test\n",
      "\n"
     ]
    }
   ],
   "source": [
    "a = int(input())\n",
    "b, c = map(int,input().split())\n",
    "s = input()\n",
    "print('{} {}'.format(a+b+c,s))"
   ]
  },
  {
   "cell_type": "code",
   "execution_count": null,
   "metadata": {},
   "outputs": [],
   "source": [
    "a,b = map(int,input().split())\n",
    "if((a*b)%2 == 0):\n",
    "    print('Even')\n",
    "else:\n",
    "    print('Odd')"
   ]
  },
  {
   "cell_type": "code",
   "execution_count": 9,
   "metadata": {},
   "outputs": [
    {
     "name": "stdout",
     "output_type": "stream",
     "text": [
      "010\n",
      "1\n"
     ]
    }
   ],
   "source": [
    "s = list(input())\n",
    "n = 0\n",
    "for i in range(3):\n",
    "    if(s[i]=='1'):\n",
    "        n += 1\n",
    "print(n)"
   ]
  }
 ],
 "metadata": {
  "kernelspec": {
   "display_name": "Python 3",
   "language": "python",
   "name": "python3"
  },
  "language_info": {
   "codemirror_mode": {
    "name": "ipython",
    "version": 3
   },
   "file_extension": ".py",
   "mimetype": "text/x-python",
   "name": "python",
   "nbconvert_exporter": "python",
   "pygments_lexer": "ipython3",
   "version": "3.7.0"
  }
 },
 "nbformat": 4,
 "nbformat_minor": 2
}
