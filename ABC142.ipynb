{
 "cells": [
  {
   "cell_type": "code",
   "execution_count": 4,
   "metadata": {},
   "outputs": [
    {
     "name": "stdout",
     "output_type": "stream",
     "text": [
      "3\n",
      "0.6666666666666666\n"
     ]
    }
   ],
   "source": [
    "n = int(input())\n",
    "print(((n+1)//2)/n)"
   ]
  },
  {
   "cell_type": "code",
   "execution_count": 5,
   "metadata": {},
   "outputs": [
    {
     "name": "stdout",
     "output_type": "stream",
     "text": [
      "4 150\n",
      "150 140 100 200\n",
      "2\n"
     ]
    }
   ],
   "source": [
    "n,k = list(map(int,input().split()))\n",
    "h = list(map(int,input().split()))\n",
    "cnt = 0\n",
    "for i in range(n):\n",
    "    if h[i]>=k:\n",
    "        cnt+=1\n",
    "print(cnt)"
   ]
  },
  {
   "cell_type": "code",
   "execution_count": 17,
   "metadata": {},
   "outputs": [
    {
     "name": "stdout",
     "output_type": "stream",
     "text": [
      "8\n",
      "8 2 7 3 4 5 6 1\n",
      "8 2 4 5 6 7 3 1\n"
     ]
    }
   ],
   "source": [
    "n = int(input())\n",
    "a = list(map(int,input().split()))\n",
    "l = [[0,0]]*n\n",
    "for i in range(n):\n",
    "    l[i] = [a[i],i+1]\n",
    "l.sort()\n",
    "ans = [0]*n\n",
    "for i in range(n):\n",
    "    ans[i] = str(l[i][1])\n",
    "print(' '.join(ans))"
   ]
  },
  {
   "cell_type": "code",
   "execution_count": 59,
   "metadata": {},
   "outputs": [
    {
     "name": "stdout",
     "output_type": "stream",
     "text": [
      "6\n"
     ]
    }
   ],
   "source": [
    "def gcd(a,b):\n",
    "    if a<b:\n",
    "        tmp = a\n",
    "        a = b\n",
    "        b = tmp\n",
    "    while a!=b and b!= 0:\n",
    "        c = a%b\n",
    "        a = b\n",
    "        b = c\n",
    "    return a\n",
    "\n",
    "a,b = list(map(int,input().split()))\n",
    "g = gcd(a,b)\n",
    "ans = 1\n",
    "d = []\n",
    "p = []\n",
    "for i in range(1,int(g**0.5)+1): #因数リスト\n",
    "    if g%i==0:\n",
    "        if i!=1:\n",
    "            d.append(i)\n",
    "        if g//i!=1:\n",
    "            d.append(g//i)\n",
    "d = list(dict.fromkeys(d))\n",
    "        \n",
    "f = [True]*len(d)\n",
    "for i in range(len(d)):\n",
    "    for j in range(i):\n",
    "        if d[i]>d[j] and d[i]%d[j]==0:\n",
    "            f[i] = False\n",
    "        if d[i]<d[j] and d[j]%d[i]==0:\n",
    "            f[j] = False\n",
    "print(f.count(True)+1)\n",
    "            \n",
    "        \n",
    "# for i in range(2,g+1): #素数リスト\n",
    "#     k = True\n",
    "#     for j in p:\n",
    "#         if i%j==0:\n",
    "#             k = False\n",
    "#             break\n",
    "#     if k:\n",
    "#         p.append(i)\n",
    "#     if i == g and len(p)==0:\n",
    "#         append()\n",
    "# for i in p:\n",
    "#     if g%i == 0:\n",
    "#         ans += 1\n",
    "# print(ans)"
   ]
  },
  {
   "cell_type": "code",
   "execution_count": 63,
   "metadata": {},
   "outputs": [
    {
     "name": "stdout",
     "output_type": "stream",
     "text": [
      "124559873\n",
      "[163, 764171]\n"
     ]
    }
   ],
   "source": [
    "#素因数分解\n",
    "def factorization(n):\n",
    "    l = []\n",
    "    if n%2==0:\n",
    "        l.append(2)\n",
    "        while n%2==0:\n",
    "            n//=2\n",
    "    d = 3\n",
    "    while d**2<=n:\n",
    "        if n%d==0:\n",
    "            l.append(d)\n",
    "            while n%d==0:\n",
    "                n//=d\n",
    "        d+=2\n",
    "    if n!=1:\n",
    "        l.append(n)\n",
    "    return l\n",
    "\n",
    "print(factorization(int(input())))"
   ]
  },
  {
   "cell_type": "code",
   "execution_count": null,
   "metadata": {},
   "outputs": [],
   "source": []
  }
 ],
 "metadata": {
  "kernelspec": {
   "display_name": "Python 3",
   "language": "python",
   "name": "python3"
  },
  "language_info": {
   "codemirror_mode": {
    "name": "ipython",
    "version": 3
   },
   "file_extension": ".py",
   "mimetype": "text/x-python",
   "name": "python",
   "nbconvert_exporter": "python",
   "pygments_lexer": "ipython3",
   "version": "3.7.0"
  }
 },
 "nbformat": 4,
 "nbformat_minor": 2
}
