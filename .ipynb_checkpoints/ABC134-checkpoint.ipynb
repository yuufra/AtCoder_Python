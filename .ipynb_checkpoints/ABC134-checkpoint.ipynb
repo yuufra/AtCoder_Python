{
 "cells": [
  {
   "cell_type": "code",
   "execution_count": 3,
   "metadata": {},
   "outputs": [
    {
     "name": "stdout",
     "output_type": "stream",
     "text": [
      "80\n",
      "19200\n"
     ]
    }
   ],
   "source": [
    "a = int(input())\n",
    "print(3*a*a)"
   ]
  },
  {
   "cell_type": "code",
   "execution_count": 10,
   "metadata": {},
   "outputs": [
    {
     "name": "stdout",
     "output_type": "stream",
     "text": [
      "20 4\n",
      "3\n"
     ]
    }
   ],
   "source": [
    "k = list(map(int,input().split()))\n",
    "if (k[0])%(2*k[1]+1) == 0:\n",
    "    print((k[0])//(2*k[1]+1))\n",
    "else:\n",
    "    print((k[0])//(2*k[1]+1)+1)"
   ]
  },
  {
   "cell_type": "code",
   "execution_count": 17,
   "metadata": {},
   "outputs": [
    {
     "name": "stdout",
     "output_type": "stream",
     "text": [
      "2\n",
      "5\n",
      "5\n",
      "5\n",
      "5\n"
     ]
    }
   ],
   "source": [
    "n = int(input())\n",
    "a = [int(input()) for i in range(n)]\n",
    "max1 = max(a)\n",
    "ind = a.index(max1)\n",
    "if ind == 0:\n",
    "    a_ = a[1:len(a)]\n",
    "elif ind == len(a)-1:\n",
    "    a_ = a[0:len(a)-1]\n",
    "else:\n",
    "    a_ = a[0:ind] + a[ind+1:len(a)]\n",
    "max2 = max(a_)\n",
    "for i in range(n):\n",
    "    if a[i] == max1:\n",
    "        print(max2)\n",
    "    else:\n",
    "        print(max1)"
   ]
  },
  {
   "cell_type": "code",
   "execution_count": 35,
   "metadata": {},
   "outputs": [
    {
     "name": "stdout",
     "output_type": "stream",
     "text": [
      "4\n",
      "0\n",
      "0\n",
      "0\n",
      "0\n",
      "4\n"
     ]
    }
   ],
   "source": [
    "n = int(input())\n",
    "a = [int(input()) for i in range(n)]\n",
    "\n",
    "d = {}\n",
    "visited = []\n",
    "for i in range(n):\n",
    "    if i in visited:\n",
    "        continue\n",
    "    d.update({i:[i]})\n",
    "    for j in range(i+1,n):\n",
    "        if j not in visited and a[d[i][len(d[i])-1]] < a[j]:\n",
    "            d[i].append(j)\n",
    "            visited.append(j)\n",
    "print(len(d))"
   ]
  },
  {
   "cell_type": "code",
   "execution_count": null,
   "metadata": {},
   "outputs": [],
   "source": []
  }
 ],
 "metadata": {
  "kernelspec": {
   "display_name": "Python 3",
   "language": "python",
   "name": "python3"
  },
  "language_info": {
   "codemirror_mode": {
    "name": "ipython",
    "version": 3
   },
   "file_extension": ".py",
   "mimetype": "text/x-python",
   "name": "python",
   "nbconvert_exporter": "python",
   "pygments_lexer": "ipython3",
   "version": "3.7.0"
  }
 },
 "nbformat": 4,
 "nbformat_minor": 2
}
