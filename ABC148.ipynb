{
 "cells": [
  {
   "cell_type": "code",
   "execution_count": 1,
   "metadata": {},
   "outputs": [
    {
     "name": "stdout",
     "output_type": "stream",
     "text": [
      "3\n",
      "1\n",
      "2\n"
     ]
    }
   ],
   "source": [
    "a = int(input())\n",
    "b = int(input())\n",
    "print(6-a-b)"
   ]
  },
  {
   "cell_type": "code",
   "execution_count": 3,
   "metadata": {},
   "outputs": [
    {
     "name": "stdout",
     "output_type": "stream",
     "text": [
      "8\n",
      "hmhmnknk uuuuuuuu\n",
      "humuhumunukunuku\n"
     ]
    }
   ],
   "source": [
    "n = int(input())\n",
    "s,t = input().split()\n",
    "ans = \"\"\n",
    "for i in range(n):\n",
    "    ans += s[i]\n",
    "    ans += t[i]\n",
    "print(ans)"
   ]
  },
  {
   "cell_type": "code",
   "execution_count": 10,
   "metadata": {},
   "outputs": [
    {
     "name": "stdout",
     "output_type": "stream",
     "text": [
      "123 456\n",
      "18696\n"
     ]
    }
   ],
   "source": [
    "a,b = list(map(int,input().split()))\n",
    "\n",
    "def gcd(a,b):\n",
    "    if a<b:\n",
    "        a,b = b,a\n",
    "    while(a%b!=0):\n",
    "        c = a%b\n",
    "        a = b\n",
    "        b = c\n",
    "    return b\n",
    "\n",
    "print(a*b//gcd(a,b))"
   ]
  },
  {
   "cell_type": "code",
   "execution_count": 14,
   "metadata": {},
   "outputs": [
    {
     "name": "stdout",
     "output_type": "stream",
     "text": [
      "1\n",
      "1\n",
      "0\n"
     ]
    }
   ],
   "source": [
    "n = int(input())\n",
    "a = list(map(int,input().split()))\n",
    "cnt = 1\n",
    "for i in range(n):\n",
    "    if a[i]==cnt:\n",
    "        cnt+=1\n",
    "if cnt==1:\n",
    "    print(-1)\n",
    "else:\n",
    "    print(n-cnt+1)"
   ]
  },
  {
   "cell_type": "code",
   "execution_count": 30,
   "metadata": {},
   "outputs": [
    {
     "name": "stdout",
     "output_type": "stream",
     "text": [
      "10\n",
      "0 5\n"
     ]
    }
   ],
   "source": [
    "#odd 1,3,15, odd number only\n",
    "#even 1,2,8,48,\n",
    "#     s,*2,*4,*6,*8,*10\n",
    "n = int(input())\n",
    "if n%2==1:\n",
    "    print(0)\n",
    "else:\n",
    "    ans = 0\n",
    "    n//=2\n",
    "    i=1\n",
    "    while n>=5**i:\n",
    "        ans+=n//(5**i)\n",
    "        i+=1\n",
    "    print(ans,n)"
   ]
  },
  {
   "cell_type": "code",
   "execution_count": null,
   "metadata": {},
   "outputs": [],
   "source": []
  }
 ],
 "metadata": {
  "kernelspec": {
   "display_name": "Python 3",
   "language": "python",
   "name": "python3"
  },
  "language_info": {
   "codemirror_mode": {
    "name": "ipython",
    "version": 3
   },
   "file_extension": ".py",
   "mimetype": "text/x-python",
   "name": "python",
   "nbconvert_exporter": "python",
   "pygments_lexer": "ipython3",
   "version": "3.7.0"
  }
 },
 "nbformat": 4,
 "nbformat_minor": 2
}
