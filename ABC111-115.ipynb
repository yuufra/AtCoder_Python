{
 "cells": [
  {
   "cell_type": "code",
   "execution_count": 2,
   "metadata": {},
   "outputs": [
    {
     "name": "stdout",
     "output_type": "stream",
     "text": [
      "119\n",
      "991\n"
     ]
    }
   ],
   "source": [
    "#ABC111A\n",
    "def f(s):\n",
    "    if s == '1':\n",
    "        return '9'\n",
    "    else:\n",
    "        return '1'\n",
    "    \n",
    "n = input()\n",
    "print(f(n[0])+f(n[1])+f(n[2]))"
   ]
  },
  {
   "cell_type": "code",
   "execution_count": 8,
   "metadata": {},
   "outputs": [
    {
     "name": "stdout",
     "output_type": "stream",
     "text": [
      "750\n",
      "777\n"
     ]
    }
   ],
   "source": [
    "#ABC111B\n",
    "n = input()\n",
    "h = int(n[0])\n",
    "print(h*111 if int(n)<=h*111 else (h+1)*111)"
   ]
  },
  {
   "cell_type": "code",
   "execution_count": 10,
   "metadata": {},
   "outputs": [
    {
     "name": "stdout",
     "output_type": "stream",
     "text": [
      "2\n",
      "3\n",
      "5\n",
      "8\n"
     ]
    }
   ],
   "source": [
    "#ABC112A\n",
    "n = int(input())\n",
    "if n == 2:\n",
    "    a = int(input())\n",
    "    b = int(input())\n",
    "    print(a+b)\n",
    "else:\n",
    "    print('Hello World')"
   ]
  },
  {
   "cell_type": "code",
   "execution_count": 14,
   "metadata": {},
   "outputs": [
    {
     "name": "stdout",
     "output_type": "stream",
     "text": [
      "5 9\n",
      "25 8\n",
      "5 9\n",
      "4 10\n",
      "1000 1000\n",
      "6 1\n",
      "5\n"
     ]
    }
   ],
   "source": [
    "#ABC112B\n",
    "n,T = list(map(int,input().split()))\n",
    "c,t = [0]*n,[0]*n\n",
    "for i in range(n):\n",
    "    c[i],t[i] = list(map(int,input().split()))\n",
    "    \n",
    "a = []\n",
    "for i in range(n):\n",
    "    if t[i]<=T:\n",
    "        a.append(c[i])\n",
    "if a==[]:\n",
    "    print('TLE')\n",
    "else:\n",
    "    print(min(a))"
   ]
  },
  {
   "cell_type": "code",
   "execution_count": 15,
   "metadata": {},
   "outputs": [
    {
     "name": "stdout",
     "output_type": "stream",
     "text": [
      "81 58\n",
      "110\n"
     ]
    }
   ],
   "source": [
    "#ABC113A\n",
    "x,y = list(map(int,input().split()))\n",
    "print(x+y//2)"
   ]
  },
  {
   "cell_type": "code",
   "execution_count": 24,
   "metadata": {},
   "outputs": [
    {
     "name": "stdout",
     "output_type": "stream",
     "text": [
      "3\n",
      "21 -11\n",
      "81234 94124 52141\n",
      "3\n"
     ]
    }
   ],
   "source": [
    "#ABC113B\n",
    "n = int(input())\n",
    "T,a = list(map(int,input().split()))\n",
    "h = list(map(int,input().split()))\n",
    "\n",
    "t_ = [0]*n\n",
    "tmp = float('inf')\n",
    "for i in range(n):\n",
    "    t_[i] = T-h[i]*0.006\n",
    "    if tmp>abs(t_[i]-a):\n",
    "        tmp = abs(t_[i]-a)\n",
    "        ans = i\n",
    "print(ans+1)"
   ]
  },
  {
   "cell_type": "code",
   "execution_count": 26,
   "metadata": {},
   "outputs": [
    {
     "name": "stdout",
     "output_type": "stream",
     "text": [
      "6\n",
      "NO\n"
     ]
    }
   ],
   "source": [
    "#ABC114A\n",
    "x = int(input())\n",
    "print('YES' if x==3 or x==5 or x==7 else 'NO')"
   ]
  },
  {
   "cell_type": "code",
   "execution_count": 32,
   "metadata": {},
   "outputs": [
    {
     "name": "stdout",
     "output_type": "stream",
     "text": [
      "111111111\n",
      "642\n"
     ]
    }
   ],
   "source": [
    "#ABC114B\n",
    "s = input()\n",
    "res = float('inf')\n",
    "ans = 0\n",
    "for i in range(len(s)-2):\n",
    "    if abs(int(s[i:i+3])-753) < res:\n",
    "        res = abs(int(s[i:i+3])-753)\n",
    "print(res)"
   ]
  },
  {
   "cell_type": "code",
   "execution_count": 34,
   "metadata": {},
   "outputs": [
    {
     "name": "stdout",
     "output_type": "stream",
     "text": [
      "22\n",
      "Christmas Eve Eve Eve\n"
     ]
    }
   ],
   "source": [
    "#ABC115A\n",
    "d = int(input())\n",
    "print('Christmas'+' Eve'*(25-d))"
   ]
  },
  {
   "cell_type": "code",
   "execution_count": 36,
   "metadata": {},
   "outputs": [
    {
     "name": "stdout",
     "output_type": "stream",
     "text": [
      "3\n",
      "4980\n",
      "7980\n",
      "6980\n",
      "15950\n"
     ]
    }
   ],
   "source": [
    "#ABC115B\n",
    "n = int(input())\n",
    "p = [int(input()) for _ in range(n)]\n",
    "p.sort()\n",
    "print(sum(p[:n-1])+p[n-1]//2)"
   ]
  },
  {
   "cell_type": "code",
   "execution_count": null,
   "metadata": {},
   "outputs": [],
   "source": []
  }
 ],
 "metadata": {
  "kernelspec": {
   "display_name": "Python 3",
   "language": "python",
   "name": "python3"
  },
  "language_info": {
   "codemirror_mode": {
    "name": "ipython",
    "version": 3
   },
   "file_extension": ".py",
   "mimetype": "text/x-python",
   "name": "python",
   "nbconvert_exporter": "python",
   "pygments_lexer": "ipython3",
   "version": "3.7.0"
  }
 },
 "nbformat": 4,
 "nbformat_minor": 2
}
