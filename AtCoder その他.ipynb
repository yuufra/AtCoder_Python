{
 "cells": [
  {
   "cell_type": "code",
   "execution_count": 2,
   "metadata": {},
   "outputs": [
    {
     "name": "stdout",
     "output_type": "stream",
     "text": [
      "5\n",
      "1\n",
      "1\n",
      "1\n",
      "1\n",
      "3\n"
     ]
    }
   ],
   "source": [
    "#ABC026C\n",
    "n = int(input())\n",
    "b = [0]*n\n",
    "for i in range(1,n):\n",
    "    b[i] = int(input())-1\n",
    "s = [1]*n\n",
    "\n",
    "#print(list(range(n-1,-1,-1)))\n",
    "for i in range(n-1,-1,-1):\n",
    "    buka = []\n",
    "    for j in range(i+1,n):\n",
    "        if b[j] == i:\n",
    "            buka.append(s[j])\n",
    "    buka.sort()\n",
    "    if buka != []:\n",
    "        s[i] += (buka[0]+buka[len(buka)-1])\n",
    "print(s[0])"
   ]
  },
  {
   "cell_type": "code",
   "execution_count": 19,
   "metadata": {},
   "outputs": [
    {
     "name": "stdout",
     "output_type": "stream",
     "text": [
      "3\n",
      "99 1 191\n",
      "100 1 192\n",
      "99 0 192\n",
      "100 0 193\n"
     ]
    }
   ],
   "source": [
    "######未回答######\n",
    "#ABC112C\n",
    "n = int(input())\n",
    "x,y,h = [0]*n,[0]*n,[0]*n\n",
    "for i in range(n):\n",
    "    x[i],y[i],h[i]=list(map(int,input().split()))\n",
    "\n",
    "def dist(x1,y1,x2,y2):\n",
    "    return abs(x1-x2)+abs(y1-y2)\n",
    "\n",
    "c_x,c_y,H = -1,-1,-1\n",
    "for i in range(101):\n",
    "    for j in range(101):\n",
    "        h_ = -1\n",
    "        for k in range(n):\n",
    "            d = dist(i,j,x[k],y[k])\n",
    "            if h_ == -1:\n",
    "                h_ = d + h[k]\n",
    "            elif h[k]!=max(h_-d,0):\n",
    "                break\n",
    "            if k==n-1:\n",
    "                c_x,c_y,H =i,j,d+h[k]\n",
    "\n",
    "print(c_x,c_y,H)"
   ]
  },
  {
   "cell_type": "code",
   "execution_count": 28,
   "metadata": {
    "scrolled": true
   },
   "outputs": [
    {
     "name": "stdout",
     "output_type": "stream",
     "text": [
      "2 5\n",
      "10 12 1 2 14\n",
      "[1, 2, 2, 8]\n",
      "3\n"
     ]
    }
   ],
   "source": [
    "######未回答######\n",
    "#ABC117C\n",
    "n,m = list(map(int,input().split()))\n",
    "x = list(map(int,input().split()))\n",
    "\n",
    "x.sort()\n",
    "d = [0]*(m-1)\n",
    "for i in range(m-1):\n",
    "    d[i] = x[i+1]-x[i]\n",
    "d.sort()\n",
    "print(d)\n",
    "print(sum(d[:n]))"
   ]
  },
  {
   "cell_type": "code",
   "execution_count": null,
   "metadata": {},
   "outputs": [],
   "source": []
  }
 ],
 "metadata": {
  "kernelspec": {
   "display_name": "Python 3",
   "language": "python",
   "name": "python3"
  },
  "language_info": {
   "codemirror_mode": {
    "name": "ipython",
    "version": 3
   },
   "file_extension": ".py",
   "mimetype": "text/x-python",
   "name": "python",
   "nbconvert_exporter": "python",
   "pygments_lexer": "ipython3",
   "version": "3.7.0"
  }
 },
 "nbformat": 4,
 "nbformat_minor": 2
}
